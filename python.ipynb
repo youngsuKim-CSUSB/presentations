{
 "cells": [
  {
   "cell_type": "markdown",
   "id": "34e68c8b-50bc-4274-8ebd-bfa3bf6aee1c",
   "metadata": {},
   "source": [
    "## Goal\n",
    "\n",
    "**Find the 1,000,000th Fibonacci number (using our own code).**\n",
    "\n",
    "---\n",
    "\n",
    "Here are 100,000th Fibonacci number from [WolframAlpha](https://www.wolframalpha.com/input?i=What+is+the+100000th+Fibonacci+number%3F) and the answer by [ChatGPT](https://chat.openai.com/share/d9f10418-3c70-4d54-b52f-934a79bec8c7) for the 1,000,000th one.\n",
    "\n",
    "**Fibonacci numbers (sequences)**\n",
    "\n",
    "$F_0 = 0$, $F_1 = 1$ and for $n \\ge 2$,  \n",
    "$F_n = F_{n-2} + F_{n-1}$. \n",
    "\n",
    "- $F_n$ is a recursive function. \n",
    "- Here are the first few terms in the sequence.\n",
    "\n",
    "> $0, 1, 1, 2, 3, 5, 8, 13, 21, 34,...$"
   ]
  },
  {
   "cell_type": "markdown",
   "id": "1cbed902-f5d3-498d-8073-8ec8ef5dc66a",
   "metadata": {},
   "source": [
    "---\n",
    "\n",
    "## JupyterLab Basics\n",
    "\n",
    "- Python or iPython\n",
    "- Jupyter Notebook/JupyterLab\n",
    "- Sage Notebook\n"
   ]
  },
  {
   "cell_type": "markdown",
   "id": "2c2479af-bf85-411c-8b06-fa8edae0172b",
   "metadata": {},
   "source": [
    "## Discussion \n",
    "\n",
    "We will first use Python which is the one of the most common programming languages. (Ask for the aduience's experience with Python or other programming languages.)\n",
    "\n",
    "Pros:\n",
    "\n",
    "Cons:\n",
    "\n",
    "--- \n",
    "\n",
    "For mathematicians, \n",
    "\n",
    "Pros:\n",
    "\n",
    "Cons:\n",
    "\n"
   ]
  },
  {
   "cell_type": "markdown",
   "id": "ef07c675-382a-4cc8-8483-621521038541",
   "metadata": {
    "tags": []
   },
   "source": [
    "## Basic arithmetics in Python\n",
    "\n",
    "- addition, subtraction, multiplication, division\n",
    "- quotient, remainder"
   ]
  },
  {
   "cell_type": "code",
   "execution_count": null,
   "id": "056406ab-87dd-4465-abef-fab1bd7ed82b",
   "metadata": {
    "tags": []
   },
   "outputs": [],
   "source": [
    "# Compute 7+14-2023\n",
    "\n"
   ]
  },
  {
   "cell_type": "code",
   "execution_count": null,
   "id": "2fac1a71-816a-478c-b3af-3cd41dccc9a5",
   "metadata": {
    "tags": []
   },
   "outputs": [],
   "source": [
    "# Compute 7*14*2023\n",
    "\n"
   ]
  },
  {
   "cell_type": "code",
   "execution_count": null,
   "id": "9d06474e-4e25-4ec2-9d2a-05c905928260",
   "metadata": {
    "tags": []
   },
   "outputs": [],
   "source": [
    "# Compute 7*14/2023\n",
    "\n"
   ]
  },
  {
   "cell_type": "code",
   "execution_count": null,
   "id": "17a812ff-c2bf-4896-8b2e-f8caadb2fb4c",
   "metadata": {
    "tags": []
   },
   "outputs": [],
   "source": [
    "# Compute the quotient and reminder of 2023/14\n",
    "\n"
   ]
  },
  {
   "cell_type": "markdown",
   "id": "f8f7e5d8-bb67-47d1-bf39-0914daffdfbd",
   "metadata": {
    "tags": []
   },
   "source": [
    "## Built-in function/Library\n",
    "\n",
    "- math, sympy"
   ]
  },
  {
   "cell_type": "code",
   "execution_count": null,
   "id": "dba1cb85-2040-4440-b23f-c91877d61e55",
   "metadata": {
    "tags": []
   },
   "outputs": [],
   "source": [
    "import math\n",
    "\n",
    "# compute sin (pi/2)"
   ]
  },
  {
   "cell_type": "code",
   "execution_count": null,
   "id": "f93182d2-b499-48c1-b375-4e3bdc6a15f4",
   "metadata": {
    "tags": []
   },
   "outputs": [],
   "source": [
    "import sympy\n",
    "\n",
    "x = sympy.symbols('x')\n",
    "f = x**2 + 1/2*x \n",
    "sympy.diff(f, x) # 2x + 1/2"
   ]
  },
  {
   "cell_type": "markdown",
   "id": "a832f0b1-1fdf-4cea-96fe-22c0e46c1ffb",
   "metadata": {
    "tags": []
   },
   "source": [
    "## Function/Class\n",
    "\n",
    "## Control\n",
    "\n",
    "- (Control flow) if\n",
    "- (loop) while\n",
    "\n",
    "## Variable type\n",
    "\n",
    "- list, tuple, set, dictionary\n",
    "\n",
    "## help, dir, autocompetion\n"
   ]
  },
  {
   "cell_type": "code",
   "execution_count": null,
   "id": "46d44ad8-0ba9-43fb-a5ff-c61778a9051a",
   "metadata": {
    "tags": []
   },
   "outputs": [],
   "source": [
    "# Define function my_parity(n) which return 0 if n is even and 1 if n is odd\n",
    "\n"
   ]
  },
  {
   "cell_type": "code",
   "execution_count": null,
   "id": "37b3b4af-e99a-4529-a201-32ca79155544",
   "metadata": {
    "tags": []
   },
   "outputs": [],
   "source": [
    "# test your function\n"
   ]
  },
  {
   "cell_type": "code",
   "execution_count": null,
   "id": "4e5a82bc-d138-4b4f-8dca-6db47ae772ef",
   "metadata": {},
   "outputs": [],
   "source": []
  },
  {
   "cell_type": "markdown",
   "id": "99af1b2a-5727-4f95-b926-1cebb575962d",
   "metadata": {},
   "source": [
    "## Discussion/Questions (2)\n",
    "\n",
    "---"
   ]
  },
  {
   "cell_type": "markdown",
   "id": "c074a19e-c2d0-4a3e-933e-14a6ab7d46b4",
   "metadata": {},
   "source": [
    "## Naive version of Fibonacci\n",
    "\n",
    "Let's write the naive version of $F_n$. "
   ]
  },
  {
   "cell_type": "code",
   "execution_count": null,
   "id": "72779946",
   "metadata": {
    "tags": []
   },
   "outputs": [],
   "source": [
    "# Naive version of Fibonacci\n",
    "\n",
    "# function\n",
    "def naive_fibonacci(n):\n",
    "    '''Input:  n\n",
    "    Output: F_n'''\n",
    "    if n == 0:\n",
    "        return 0\n",
    "    elif n ==1:\n",
    "        return 1\n",
    "    else:\n",
    "        return naive_fibonacci(n-2) + naive_fibonacci(n-1)\n",
    "\n",
    "# print the first three Fibonacci numbers\n",
    "naive_fibonacci(0),naive_fibonacci(1),naive_fibonacci(2)"
   ]
  },
  {
   "cell_type": "code",
   "execution_count": null,
   "id": "19563af6-f874-4110-9c4a-70ef4e7a1d2a",
   "metadata": {
    "tags": []
   },
   "outputs": [],
   "source": [
    "naive_fibonacci?"
   ]
  },
  {
   "cell_type": "code",
   "execution_count": null,
   "id": "75449ba8",
   "metadata": {
    "tags": []
   },
   "outputs": [],
   "source": [
    "# >>>> Do: print the first 10 terms of the sequence so that output is \n",
    "# F_0 = 0\n",
    "# F_1 = 1\n",
    "# ...\n",
    "# F_9 = \n",
    "# <<<<\n",
    "\n",
    "# f-string can have variables as their placeholder\n",
    "\n",
    "for n in >>>>    <<<<:\n",
    "    >>>>    <<<<\n",
    "    # Add padding"
   ]
  },
  {
   "cell_type": "markdown",
   "id": "aa399556-1d95-4503-a316-382f92f1080c",
   "metadata": {},
   "source": [
    "## Performance\n",
    "\n",
    "Let's check the performance. There are built-in methods, called magic, in JupyterLab\n",
    "\n",
    "- %%time,  cell magic\n",
    "- %time,   line magic\n",
    "- %timeit, line magic\n",
    "\n",
    "FYI, $s = 10^3 ms = 10^6 us = 10^9 ns$.\n"
   ]
  },
  {
   "cell_type": "code",
   "execution_count": null,
   "id": "820b890e-bc1d-417e-bad6-d3eb6b3c2b36",
   "metadata": {},
   "outputs": [],
   "source": []
  },
  {
   "cell_type": "code",
   "execution_count": null,
   "id": "6b0e8814-2c48-422c-a9da-95937b743a0a",
   "metadata": {},
   "outputs": [],
   "source": []
  },
  {
   "cell_type": "code",
   "execution_count": null,
   "id": "9a8ea41e",
   "metadata": {
    "tags": []
   },
   "outputs": [],
   "source": [
    "%%time\n",
    "a = naive_fibonacci(10)"
   ]
  },
  {
   "cell_type": "code",
   "execution_count": null,
   "id": "484a62b0-d1fd-4278-bf4d-c712f9f85921",
   "metadata": {
    "tags": []
   },
   "outputs": [],
   "source": [
    "# Performance test\n",
    "\n",
    "%time a = naive_fibonacci(10)\n",
    "\n",
    "%timeit a = naive_fibonacci(10)\n",
    "%timeit a = naive_fibonacci(20)\n",
    "%timeit a = naive_fibonacci(30)\n"
   ]
  },
  {
   "cell_type": "markdown",
   "id": "9e1f00ad-f4bc-4d46-90ab-6cf0148efb93",
   "metadata": {},
   "source": [
    "---\n",
    "## Plot a performance graph of naive_fibonacci for n = 1,2,..,40."
   ]
  },
  {
   "cell_type": "code",
   "execution_count": null,
   "id": "254bcc64-8267-40b4-8d61-7b0cd752caa9",
   "metadata": {
    "tags": []
   },
   "outputs": [],
   "source": [
    "from time import perf_counter\n",
    "from time import sleep\n",
    "\n",
    "start_time = perf_counter()\n",
    "# sleep(1)\n",
    "end_time = perf_counter()\n",
    "print(f\"Elapsedtime: {end_time-start_time:.2e}\\n\")"
   ]
  },
  {
   "cell_type": "code",
   "execution_count": null,
   "id": "2a9eb715-48d7-49ce-ba6c-ede3b35ef765",
   "metadata": {
    "tags": []
   },
   "outputs": [],
   "source": [
    "def performance_naive_fibonacci(n):\n",
    "    from time import perf_counter\n",
    "    start_time = perf_counter()\n",
    "    a = naive_fibonacci(n)\n",
    "    end_time = perf_counter()\n",
    "    \n",
    "    return n, end_time-start_time, a"
   ]
  },
  {
   "cell_type": "code",
   "execution_count": null,
   "id": "9da8e1aa-2686-4fce-b1c8-22657af41659",
   "metadata": {
    "tags": []
   },
   "outputs": [],
   "source": [
    "%%time\n",
    "result = [ performance_naive_fibonacci(n) for n in range(1,40) ]"
   ]
  },
  {
   "cell_type": "code",
   "execution_count": null,
   "id": "b4e57c9c-be2a-42a1-b5dd-1f5dd2ade482",
   "metadata": {
    "tags": []
   },
   "outputs": [],
   "source": [
    "result[-10:]\n",
    "# list splicing"
   ]
  },
  {
   "cell_type": "code",
   "execution_count": null,
   "id": "f115b32c-f34a-48d3-a84b-2b579d8d6e70",
   "metadata": {},
   "outputs": [],
   "source": [
    "# list append to add the 40th one"
   ]
  },
  {
   "cell_type": "code",
   "execution_count": null,
   "id": "79075794-4344-46d7-9a69-530a6172c8ef",
   "metadata": {
    "tags": []
   },
   "outputs": [],
   "source": [
    "# check\n",
    "result[-2:]\n"
   ]
  },
  {
   "cell_type": "code",
   "execution_count": null,
   "id": "ea371d32-077e-4d22-bea7-d1e4352bdc30",
   "metadata": {},
   "outputs": [],
   "source": []
  },
  {
   "cell_type": "code",
   "execution_count": null,
   "id": "d554eb77-dbbb-4888-912c-1e97151938e8",
   "metadata": {
    "tags": []
   },
   "outputs": [],
   "source": [
    "# list comprehension, https://www.w3schools.com/python/python_lists_comprehension.asp \n",
    "y_time = [ z[1] for z in result ] \n",
    "y_time[:5]"
   ]
  },
  {
   "cell_type": "code",
   "execution_count": null,
   "id": "c6e3308a-7fa3-4377-8ce2-27ecfde2d3e4",
   "metadata": {
    "tags": []
   },
   "outputs": [],
   "source": [
    "# conda install matplotlib\n",
    "import matplotlib.pyplot as plt\n",
    "\n",
    "\n",
    "plt.plot(y_time)"
   ]
  },
  {
   "cell_type": "markdown",
   "id": "22ca0546-49dd-4857-930b-6513195b712a",
   "metadata": {},
   "source": [
    "---\n",
    "## Pause for discussion and questions\n",
    "\n",
    "- Will it give us the 10^6th F_n? "
   ]
  },
  {
   "cell_type": "code",
   "execution_count": null,
   "id": "1685fea8-8708-4640-8ced-316f5e89a2b2",
   "metadata": {},
   "outputs": [],
   "source": []
  },
  {
   "cell_type": "code",
   "execution_count": null,
   "id": "e55beb4c-7bfd-4076-9e7b-4bfe2ca6baca",
   "metadata": {},
   "outputs": [],
   "source": []
  },
  {
   "cell_type": "markdown",
   "id": "17130e65-054f-415d-bf31-f53501e04ef1",
   "metadata": {
    "execution": {
     "iopub.execute_input": "2023-07-13T01:06:37.694158Z",
     "iopub.status.busy": "2023-07-13T01:06:37.693459Z",
     "iopub.status.idle": "2023-07-13T01:06:37.698127Z",
     "shell.execute_reply": "2023-07-13T01:06:37.697302Z",
     "shell.execute_reply.started": "2023-07-13T01:06:37.694108Z"
    }
   },
   "source": [
    "## Revised code (list)"
   ]
  },
  {
   "cell_type": "code",
   "execution_count": null,
   "id": "be8edc59",
   "metadata": {
    "tags": []
   },
   "outputs": [],
   "source": [
    "def fibonacci_list(n):\n",
    "    if n == 0:\n",
    "        return 0\n",
    "    elif n ==1:\n",
    "        return 1\n",
    "    else: \n",
    "        f_seq = [0,1]\n",
    "        i = 2\n",
    "        while (i <= n):\n",
    "            f_seq.append(f_seq[i-2]+f_seq[i-1])\n",
    "            i += 1\n",
    "        return f_seq[-1]\n",
    "    \n",
    "fibonacci_list(0), fibonacci_list(1), fibonacci_list(2)"
   ]
  },
  {
   "cell_type": "code",
   "execution_count": null,
   "id": "ee565679",
   "metadata": {
    "tags": []
   },
   "outputs": [],
   "source": [
    "for n in range(5):\n",
    "    print(f\"F_{n} = {naive_fibonacci(n)} = {fibonacci_list(n)}\")\n",
    "    # revise this to T/F\n"
   ]
  },
  {
   "cell_type": "code",
   "execution_count": null,
   "id": "7d5d2846-8086-4dea-b249-6f0d6b030184",
   "metadata": {
    "tags": []
   },
   "outputs": [],
   "source": [
    "# done revising?"
   ]
  },
  {
   "cell_type": "markdown",
   "id": "b70f31e9-b6bd-4e9b-90fa-fb683f4c65ea",
   "metadata": {},
   "source": [
    "## Performance (2)"
   ]
  },
  {
   "cell_type": "code",
   "execution_count": null,
   "id": "4924cdff",
   "metadata": {
    "tags": []
   },
   "outputs": [],
   "source": [
    "k = 20\n",
    "%time a = naive_fibonacci(k)\n",
    "%time a = fibonacci_list(k)"
   ]
  },
  {
   "cell_type": "code",
   "execution_count": null,
   "id": "895394ae-a6d9-4a7d-8625-c5e312c60382",
   "metadata": {
    "tags": []
   },
   "outputs": [],
   "source": [
    "import sys\n",
    "sys.set_int_max_str_digits(0)"
   ]
  },
  {
   "cell_type": "code",
   "execution_count": null,
   "id": "eafb1b5b-cf18-4fce-97d2-7088623aaa57",
   "metadata": {
    "tags": []
   },
   "outputs": [],
   "source": [
    "%%time\n",
    "a = fibonacci_list(1_000_000)"
   ]
  },
  {
   "cell_type": "code",
   "execution_count": null,
   "id": "82f1d46e-2589-4e4a-bb2e-98144e505388",
   "metadata": {
    "tags": []
   },
   "outputs": [],
   "source": [
    "%%memoryview\n",
    "a = fibonacci_list(1_000_000)"
   ]
  },
  {
   "cell_type": "markdown",
   "id": "578f9eea-bc5d-49f0-a8a2-3718f66767db",
   "metadata": {},
   "source": [
    "## Discussion/Questions (3)\n",
    "\n",
    "- What happened?\n",
    "- What can we do?"
   ]
  },
  {
   "cell_type": "markdown",
   "id": "66599d7e-a955-4caa-9189-f42ce821ae24",
   "metadata": {},
   "source": [
    "## Revised code (variable)"
   ]
  },
  {
   "cell_type": "code",
   "execution_count": null,
   "id": "e4261347",
   "metadata": {
    "tags": []
   },
   "outputs": [],
   "source": [
    "def fibonacci_variable(n):\n",
    "    if n == 0:\n",
    "        return 0\n",
    "    elif n ==1:\n",
    "        return 1\n",
    "    else: \n",
    "        f_nm2 = 0\n",
    "        f_nm1 = 1\n",
    "        i = 2\n",
    "        while (i <= n):\n",
    "            f_n = f_nm2 + f_nm1\n",
    "            if i == n:\n",
    "                return f_n \n",
    "            # We want to update to compute the next F_n. \n",
    "            # F_n => F_nm1\n",
    "            # F_nm1 => F_nm2\n",
    "            else: \n",
    "                f_nm2 = f_nm1\n",
    "                f_nm1 = f_n\n",
    "                i += 1\n",
    "            \n",
    "                \n",
    "fibonacci_variable(0), fibonacci_variable(1), fibonacci_variable(2)"
   ]
  },
  {
   "cell_type": "code",
   "execution_count": null,
   "id": "3db451db",
   "metadata": {
    "tags": []
   },
   "outputs": [],
   "source": [
    "for n in range(5):\n",
    "    print(fibonacci_list(n) == fibonacci_variable(n))"
   ]
  },
  {
   "cell_type": "code",
   "execution_count": null,
   "id": "c7aabbfa-17fe-4957-aaff-0c338c2868bd",
   "metadata": {
    "tags": []
   },
   "outputs": [],
   "source": [
    "## Use list comprehension"
   ]
  },
  {
   "cell_type": "code",
   "execution_count": null,
   "id": "f2a692a9-cda8-4562-b2e5-1c196fc50406",
   "metadata": {},
   "outputs": [],
   "source": []
  },
  {
   "cell_type": "code",
   "execution_count": null,
   "id": "d9cbb2cb-ebdb-469a-a43b-0846f79107da",
   "metadata": {},
   "outputs": [],
   "source": []
  },
  {
   "cell_type": "code",
   "execution_count": null,
   "id": "2770040a-99af-48ab-8f37-c0225878d9c4",
   "metadata": {
    "tags": []
   },
   "outputs": [],
   "source": [
    "k = 10\n",
    "%time a = fibonacci_list(k)\n",
    "%time a = fibonacci_variable(k)"
   ]
  },
  {
   "cell_type": "code",
   "execution_count": null,
   "id": "b5cc7ed6-d20a-4184-9ca4-ededf702e130",
   "metadata": {
    "tags": []
   },
   "outputs": [],
   "source": [
    "%%time\n",
    "a = fibonacci_variable(100_000)"
   ]
  },
  {
   "cell_type": "code",
   "execution_count": null,
   "id": "04bd87ba-fa47-4fe8-bfc3-2244e75d0274",
   "metadata": {
    "tags": []
   },
   "outputs": [],
   "source": [
    "# %%time\n",
    "# a = fibonacci_list(1_000_000)"
   ]
  },
  {
   "cell_type": "code",
   "execution_count": null,
   "id": "2c131df4",
   "metadata": {
    "tags": []
   },
   "outputs": [],
   "source": [
    "%%time\n",
    "a = fibonacci_variable(1_000_000)"
   ]
  },
  {
   "cell_type": "markdown",
   "id": "fcfdfad8-9d2c-42b6-b961-26e4e89fd230",
   "metadata": {},
   "source": [
    "## Can we do the performance graph?"
   ]
  },
  {
   "cell_type": "code",
   "execution_count": null,
   "id": "ceaf21a1-0ed1-49b1-968e-98335834ab3d",
   "metadata": {},
   "outputs": [],
   "source": [
    "def performance_my_fibonacci(n):\n",
    "    from time import perf_counter\n",
    "    start_time = perf_counter()\n",
    "    a = fibonacci_variable(n)\n",
    "    end_time = perf_counter()\n",
    "    \n",
    "    return n, end_time-start_time, a"
   ]
  },
  {
   "cell_type": "code",
   "execution_count": null,
   "id": "b22d1419-8711-42f0-8ee3-c4188a47252a",
   "metadata": {
    "tags": []
   },
   "outputs": [],
   "source": [
    "%%time\n",
    "result_var = [ performance_my_fibonacci(n) for n in range(1,1_000) ]"
   ]
  },
  {
   "cell_type": "code",
   "execution_count": null,
   "id": "437ca167-2d8b-49bf-a4af-0a1d336c3000",
   "metadata": {
    "tags": []
   },
   "outputs": [],
   "source": [
    "import matplotlib.pyplot as plt\n",
    "\n",
    "y_time = [ z[1] for z in result_var ] \n",
    "plt.plot(y_time)"
   ]
  },
  {
   "cell_type": "code",
   "execution_count": null,
   "id": "e5a89abb-e95b-42c4-b390-ecc726d7b2f9",
   "metadata": {},
   "outputs": [],
   "source": []
  },
  {
   "cell_type": "code",
   "execution_count": null,
   "id": "d1f1d3b0-d306-48c2-84a8-20db25d3a93d",
   "metadata": {},
   "outputs": [],
   "source": []
  },
  {
   "cell_type": "code",
   "execution_count": null,
   "id": "ad92ecc3-758c-44b9-8e03-a7b48d512ae9",
   "metadata": {
    "tags": []
   },
   "outputs": [],
   "source": [
    "%%time\n",
    "a = fibonacci_variable(10_000_000)"
   ]
  },
  {
   "cell_type": "code",
   "execution_count": null,
   "id": "192796ca-1ddb-4ff4-8ecc-70750cf0e87f",
   "metadata": {},
   "outputs": [],
   "source": []
  },
  {
   "cell_type": "markdown",
   "id": "49d38b7a-9039-4890-8402-d4dac99766fc",
   "metadata": {},
   "source": [
    "## Files\n",
    "\n",
    "Saving the outputs to a list did not work since we did not have enough memory. Storage such as HDD/SSD often has much larger space. Let's save the output into files. \n",
    "\n",
    "1. Save all outputs to a single file fibo.txt\n",
    "1. Save each (or some) $F_n$ to separate files. "
   ]
  },
  {
   "cell_type": "code",
   "execution_count": null,
   "id": "8cd50775-1cd9-405a-af15-1f608b039511",
   "metadata": {
    "tags": []
   },
   "outputs": [],
   "source": [
    "## Demo of writing to a file demo.txt\n",
    "\n",
    "with open (\"demo.txt\", \"w\") as f:\n",
    "    f.write(\"Hello\")\n",
    "    # newline\n",
    "        "
   ]
  },
  {
   "cell_type": "code",
   "execution_count": null,
   "id": "fd4b02eb-a792-4f8c-8b08-885a3ee9cf92",
   "metadata": {
    "tags": []
   },
   "outputs": [],
   "source": [
    "%%time\n",
    "# Save the first 1000 F_n to fibo.txt\n",
    "with open (\"fibo.txt\", \"w\") as f:\n",
    "    for n in range(1,1000):\n",
    "        f.write(f\"{fibonacci_variable(n)}\\n\")"
   ]
  },
  {
   "cell_type": "code",
   "execution_count": null,
   "id": "ed3d0692-f5ce-4697-92cd-4ab409075f85",
   "metadata": {},
   "outputs": [],
   "source": [
    "%%time\n",
    "# Save the first 1000 F_n to each F_n.txt\n",
    "for n in range(1,3):\n",
    "    with open (f\"F_{n}.txt\", \"w\") as f:\n",
    "        f.write(f\"{fibonacci_variable(n)}\\n\")"
   ]
  },
  {
   "cell_type": "code",
   "execution_count": null,
   "id": "4acf6b03",
   "metadata": {
    "tags": []
   },
   "outputs": [],
   "source": []
  },
  {
   "cell_type": "markdown",
   "id": "60878aff-195f-4620-b212-e66b34b2d360",
   "metadata": {},
   "source": [
    "## Discussion/Questions (4)\n",
    "\n",
    "What can we do it for 1,000,000 or more? What challenges will we face?\n",
    "\n",
    "### "
   ]
  },
  {
   "cell_type": "code",
   "execution_count": null,
   "id": "632e1baf-dd0e-4e78-a998-8076614dec56",
   "metadata": {},
   "outputs": [],
   "source": []
  },
  {
   "cell_type": "code",
   "execution_count": null,
   "id": "a1cb605e-3bba-4090-be1c-c5db523740be",
   "metadata": {},
   "outputs": [],
   "source": []
  },
  {
   "cell_type": "code",
   "execution_count": null,
   "id": "1a788b83-c7f4-4d69-b56c-d95a1f4b775c",
   "metadata": {},
   "outputs": [],
   "source": []
  },
  {
   "cell_type": "code",
   "execution_count": null,
   "id": "4aa0b1c7-d1a1-4b42-9747-b817db2b857d",
   "metadata": {},
   "outputs": [],
   "source": []
  },
  {
   "cell_type": "code",
   "execution_count": null,
   "id": "517e5823-1ca7-417d-a9e3-55cf041ff564",
   "metadata": {},
   "outputs": [],
   "source": []
  },
  {
   "cell_type": "markdown",
   "id": "f3fa321d-804e-4fc7-9e2a-22da3a5133e7",
   "metadata": {},
   "source": [
    "## Parallelize\n",
    "\n",
    "With enough number of resources we can parallelize the task. \n",
    "\n",
    "\n",
    "We will see how to do it on Python ([Joblib](https://joblib.readthedocs.io/en/stable/)) and [SageMath](https://doc.sagemath.org/html/en/reference/parallel/index.html). These approches are similar: we pass a list of inputs to a function. "
   ]
  },
  {
   "cell_type": "code",
   "execution_count": null,
   "id": "3d2ed53f-0193-4a3e-bb94-7ca16c5a831f",
   "metadata": {
    "tags": []
   },
   "outputs": [],
   "source": [
    "%%time\n",
    "# Joblib\n",
    "# https://joblib.readthedocs.io/en/stable/parallel.html\n",
    "\n",
    "from math import sqrt\n",
    "z1=[sqrt(i ** 2) for i in range(50_000_000)]"
   ]
  },
  {
   "cell_type": "code",
   "execution_count": null,
   "id": "3e7240a3-ef3c-4006-bf68-53fb0f8dadf3",
   "metadata": {
    "tags": []
   },
   "outputs": [],
   "source": [
    "%%time\n",
    "from math import sqrt\n",
    "from joblib import Parallel, delayed\n",
    "z = Parallel(n_jobs=8,verbose=50)(delayed(sqrt)(i ** 2) for i in range(10_000_000))"
   ]
  },
  {
   "cell_type": "code",
   "execution_count": null,
   "id": "f9577120-576a-4ec6-85d1-76d4af641a93",
   "metadata": {},
   "outputs": [],
   "source": []
  },
  {
   "cell_type": "code",
   "execution_count": null,
   "id": "781cb5e8-0b18-4606-8f43-f63371cfa9b8",
   "metadata": {
    "tags": []
   },
   "outputs": [],
   "source": [
    "from math import factorial\n",
    "\n",
    "%time a = factorial(5*10**5)"
   ]
  },
  {
   "cell_type": "code",
   "execution_count": null,
   "id": "f4101b47-8ae0-4ac3-86f8-9908c0558032",
   "metadata": {},
   "outputs": [],
   "source": [
    "k = 5*10**5\n",
    "L = [k]*4\n",
    "L"
   ]
  },
  {
   "cell_type": "code",
   "execution_count": null,
   "id": "f25ae44f-7a84-45f7-9bbe-59d10dc30aa1",
   "metadata": {},
   "outputs": [],
   "source": [
    "%%time\n",
    "z1 = "
   ]
  },
  {
   "cell_type": "code",
   "execution_count": null,
   "id": "12aaaf8c-0938-4175-a2b7-733cc75738c8",
   "metadata": {},
   "outputs": [],
   "source": [
    "%%time\n",
    "from math import sqrt\n",
    "from joblib import Parallel, delayed\n",
    "z = "
   ]
  },
  {
   "cell_type": "code",
   "execution_count": null,
   "id": "28bf668d-10b6-4fc2-89d2-adc0b84f1927",
   "metadata": {
    "tags": []
   },
   "outputs": [],
   "source": [
    "%%time\n",
    "from math import sqrt\n",
    "from joblib import Parallel, delayed\n",
    "z = Parallel(n_jobs=2,verbose=50)(delayed(factorial)(n) for n in L)"
   ]
  },
  {
   "cell_type": "code",
   "execution_count": null,
   "id": "7f142266-8032-4db2-bf2f-3927638f9255",
   "metadata": {
    "tags": []
   },
   "outputs": [],
   "source": [
    "help(sys.set_int_max_str_digits)"
   ]
  },
  {
   "cell_type": "code",
   "execution_count": null,
   "id": "63ba9420-1fd3-41e0-acda-447729fe1ceb",
   "metadata": {
    "tags": []
   },
   "outputs": [],
   "source": [
    "%%time\n",
    "# https://stackoverflow.com/questions/73693104/valueerror-exceeds-the-limit-4300-for-integer-string-conversion\n",
    "from joblib import Parallel, delayed\n",
    "\n",
    "# Save the first 1000 F_n to each F_n.txt\n",
    "def worker(n):\n",
    "    with open (f\"./work/F_{n}.txt\", \"w\") as f:\n",
    "        f.write(f\"{fibonacci_variable(n)}\\n\")\n",
    "        \n",
    "z = Parallel(n_jobs=8,verbose=10,batch_size=3200)(delayed(worker)(n) for n in range(0,100_000))"
   ]
  },
  {
   "cell_type": "code",
   "execution_count": null,
   "id": "ac833df8-01a2-442b-a0b4-56846e223d47",
   "metadata": {
    "tags": []
   },
   "outputs": [],
   "source": [
    "%%time\n",
    "# https://stackoverflow.com/questions/73693104/valueerror-exceeds-the-limit-4300-for-integer-string-conversion\n",
    "# from joblib import Parallel, delayed\n",
    "# import sys\n",
    "# sys.set_int_max_str_digits(0)\n",
    "\n",
    "# Save the first 1000 F_n to each F_n.txt\n",
    "def worker(n):\n",
    "    with open (f\"./work/F_{n}.txt\", \"w\") as f:\n",
    "        f.write(f\"{fibonacci_variable(n)}\\n\")\n",
    "        \n",
    "worker(1_000_000)"
   ]
  },
  {
   "cell_type": "code",
   "execution_count": null,
   "id": "22bd06ea-7550-4c3a-89a7-069c0329a754",
   "metadata": {},
   "outputs": [],
   "source": [
    "%%time\n",
    "a = fibonacci_variable(n)"
   ]
  },
  {
   "cell_type": "code",
   "execution_count": null,
   "id": "07b35dda-98ec-4ac9-bbdb-707473d14f11",
   "metadata": {},
   "outputs": [],
   "source": [
    "import threading\n",
    "\n",
    "def worker(n):\n",
    "    with open(f\"./work/F_{n}.txt\", \"w\") as f:\n",
    "        f.write(f\"{fibonacci_variable(n)}\\n\")\n",
    "\n",
    "threads = []\n",
    "for n in range(0, 1_000_000):\n",
    "    t = threading.Thread(target=worker, args=(n,))\n",
    "    threads.append(t)\n",
    "    t.start()\n",
    "\n",
    "# Wait for all threads to complete\n",
    "for t in threads:\n",
    "    t.join()\n",
    "\n",
    "print(\"Done!\")"
   ]
  },
  {
   "cell_type": "code",
   "execution_count": null,
   "id": "6283bbc8-1950-412c-9279-f6c5c2ae67a5",
   "metadata": {},
   "outputs": [],
   "source": [
    "import multiprocessing\n",
    "\n",
    "def worker(n):\n",
    "    with open(f\"./work/F_{n}.txt\", \"w\") as f:\n",
    "        f.write(f\"{fibonacci_variable(n)}\\n\")\n",
    "\n",
    "processes = []\n",
    "for n in range(0, 100_000):\n",
    "    p = multiprocessing.Process(target=worker, args=(n,))\n",
    "    processes.append(p)\n",
    "    p.start()\n",
    "\n",
    "# Wait for all processes to complete\n",
    "for p in processes:\n",
    "    p.join()\n"
   ]
  },
  {
   "cell_type": "code",
   "execution_count": null,
   "id": "01b0be6f-837f-414f-9298-41954291bd15",
   "metadata": {},
   "outputs": [],
   "source": []
  },
  {
   "cell_type": "code",
   "execution_count": null,
   "id": "9c1f771c-9e4d-4824-b203-dd05118758f2",
   "metadata": {},
   "outputs": [],
   "source": []
  },
  {
   "cell_type": "markdown",
   "id": "f69b5aa8-0572-4016-9e36-1e18df92db2f",
   "metadata": {},
   "source": [
    "## SageMath\n",
    "\n"
   ]
  },
  {
   "cell_type": "code",
   "execution_count": 1,
   "id": "952216fb-4e11-450e-acb9-33d90e8605a4",
   "metadata": {
    "tags": []
   },
   "outputs": [
    {
     "name": "stdout",
     "output_type": "stream",
     "text": [
      "3.10.10\n"
     ]
    }
   ],
   "source": [
    "import platform\n",
    "print(platform.python_version())"
   ]
  },
  {
   "cell_type": "code",
   "execution_count": 19,
   "id": "545741ee-29ce-4e15-aff1-eb489a181139",
   "metadata": {
    "tags": []
   },
   "outputs": [],
   "source": [
    "# change to SageMath"
   ]
  },
  {
   "cell_type": "code",
   "execution_count": 3,
   "id": "6b627a66-8a3a-484d-94c9-65551d19f047",
   "metadata": {
    "tags": []
   },
   "outputs": [
    {
     "data": {
      "text/plain": [
       "<class 'sage.functions.other.Function_factorial'>"
      ]
     },
     "execution_count": 3,
     "metadata": {},
     "output_type": "execute_result"
    }
   ],
   "source": [
    "type(factorial) #this is SageMath factorial"
   ]
  },
  {
   "cell_type": "code",
   "execution_count": 6,
   "id": "e202698c-e24f-46dd-a636-5a42089b3e79",
   "metadata": {
    "tags": []
   },
   "outputs": [
    {
     "data": {
      "text/plain": [
       "<class 'builtin_function_or_method'>"
      ]
     },
     "execution_count": 6,
     "metadata": {},
     "output_type": "execute_result"
    }
   ],
   "source": [
    "import math\n",
    "\n",
    "type(math.factorial) #this is Python's math package factorial"
   ]
  },
  {
   "cell_type": "code",
   "execution_count": 11,
   "id": "214e5a5a-1340-48d0-aeed-28a0560e7cbd",
   "metadata": {
    "tags": []
   },
   "outputs": [
    {
     "name": "stdout",
     "output_type": "stream",
     "text": [
      "CPU times: user 1.11 ms, sys: 17 µs, total: 1.12 ms\n",
      "Wall time: 1.43 ms\n"
     ]
    },
    {
     "ename": "OverflowError",
     "evalue": "factorial() argument should not exceed 9223372036854775807",
     "output_type": "error",
     "traceback": [
      "\u001b[0;31m---------------------------------------------------------------------------\u001b[0m",
      "\u001b[0;31mOverflowError\u001b[0m                             Traceback (most recent call last)",
      "File \u001b[0;32m<timed exec>:1\u001b[0m\n",
      "\u001b[0;31mOverflowError\u001b[0m: factorial() argument should not exceed 9223372036854775807"
     ]
    }
   ],
   "source": [
    "# once reason to use SageMath over Python\n",
    "%time a=factorial(_)\n",
    "%time a=math.factorial(_)"
   ]
  },
  {
   "cell_type": "code",
   "execution_count": 20,
   "id": "de54d5a1-85d1-4a1c-9e9f-4b3267f21a6e",
   "metadata": {
    "tags": []
   },
   "outputs": [
    {
     "data": {
      "text/plain": [
       "10"
      ]
     },
     "execution_count": 20,
     "metadata": {},
     "output_type": "execute_result"
    }
   ],
   "source": [
    "# Wrong way\n",
    "\n",
    "@parallel(ncpus=2, timeout=20)\n",
    "def fac(n): return factorial(n)\n",
    "\n",
    "Z = [10**7]*10\n",
    "z = []\n",
    "for n in Z:\n",
    "    z.append(fac(n))\n",
    "    \n",
    "len(z)"
   ]
  },
  {
   "cell_type": "code",
   "execution_count": 21,
   "id": "6ec5c2ea-d900-4313-9aba-8138a5bb05f7",
   "metadata": {
    "tags": []
   },
   "outputs": [
    {
     "ename": "SyntaxError",
     "evalue": "invalid syntax (1974797746.py, line 7)",
     "output_type": "error",
     "traceback": [
      "\u001b[0;36m  Cell \u001b[0;32mIn[21], line 7\u001b[0;36m\u001b[0m\n\u001b[0;31m    >>>>\u001b[0m\n\u001b[0m    ^\u001b[0m\n\u001b[0;31mSyntaxError\u001b[0m\u001b[0;31m:\u001b[0m invalid syntax\n"
     ]
    }
   ],
   "source": [
    "# Correct way\n",
    "@parallel(ncpus=2, timeout=20)\n",
    "def fac(n): return factorial(n)\n",
    "\n",
    "Z = [10**7]*10\n",
    "    \n",
    ">>>> "
   ]
  },
  {
   "cell_type": "code",
   "execution_count": null,
   "id": "b5280f48-fd40-4fe3-ac8d-c82b0afa5cc9",
   "metadata": {},
   "outputs": [],
   "source": [
    "# Change back to python"
   ]
  },
  {
   "cell_type": "code",
   "execution_count": null,
   "id": "b8c7694f-1e9a-4e7e-932a-a356967c04ac",
   "metadata": {},
   "outputs": [],
   "source": []
  },
  {
   "cell_type": "markdown",
   "id": "8afb9e11-803a-43bf-928e-4c8bfa08362a",
   "metadata": {},
   "source": [
    "## Memory Profiling \n",
    "\n",
    "For more https://jakevdp.github.io/PythonDataScienceHandbook/01.07-timing-and-profiling.html"
   ]
  },
  {
   "cell_type": "code",
   "execution_count": null,
   "id": "a5d210d2-ab3a-4beb-90c4-714cfce41213",
   "metadata": {
    "tags": []
   },
   "outputs": [],
   "source": [
    "%load_ext memory_profiler\n",
    "import fibo\n",
    "\n",
    "k = 10\n",
    "fibo.naive_fibonacci(k), fibo.fibonacci_list(k), fibo.fibonacci_variable(k)"
   ]
  },
  {
   "cell_type": "code",
   "execution_count": null,
   "id": "3a0b73c2-1f23-42ab-a44f-9ffdee54638b",
   "metadata": {
    "tags": []
   },
   "outputs": [],
   "source": [
    "%mprun -f fibo.naive_fibonacci fibo.naive_fibonacci(24)"
   ]
  },
  {
   "cell_type": "code",
   "execution_count": 17,
   "id": "2e470aae-38b0-4c5f-8d52-de42a5d2242b",
   "metadata": {
    "tags": []
   },
   "outputs": [],
   "source": [
    "#pause m = 200_000"
   ]
  },
  {
   "cell_type": "code",
   "execution_count": 21,
   "id": "9715af6b-ffbc-41c7-a1a4-e54b44becc5e",
   "metadata": {
    "tags": []
   },
   "outputs": [],
   "source": [
    "%mprun -f fibo.fibonacci_list fibo.fibonacci_list(1_000)\n",
    "\n",
    "%mprun -f fibo.fibonacci_variable fibo.fibonacci_variable(1_000)"
   ]
  },
  {
   "cell_type": "code",
   "execution_count": 25,
   "id": "9e50bfc8-9f2a-419a-8b39-52bea775cd1a",
   "metadata": {
    "tags": []
   },
   "outputs": [],
   "source": [
    "# %%mprun -f fibo.fibonacci_list -f fibo.fibonacci_variable\n",
    "\n",
    "# m = 200_000\n",
    "# fibo.fibonacci_list(m)\n",
    "# fibo.fibonacci_variable(m)"
   ]
  },
  {
   "cell_type": "code",
   "execution_count": 14,
   "id": "366f9ceb-7962-421d-aeec-8b98eff4b921",
   "metadata": {
    "tags": []
   },
   "outputs": [
    {
     "name": "stdout",
     "output_type": "stream",
     "text": [
      "The line_profiler extension is already loaded. To reload it, use:\n",
      "  %reload_ext line_profiler\n"
     ]
    }
   ],
   "source": [
    "%load_ext line_profiler\n"
   ]
  },
  {
   "cell_type": "code",
   "execution_count": 29,
   "id": "88335552-f514-4e32-ad10-187128af08f0",
   "metadata": {
    "tags": []
   },
   "outputs": [
    {
     "data": {
      "text/plain": [
       "Timer unit: 1e-09 s\n",
       "\n",
       "Total time: 2.54738 s\n",
       "File: /home/jovyan/fibo.py\n",
       "Function: fibonacci_list at line 11\n",
       "\n",
       "Line #      Hits         Time  Per Hit   % Time  Line Contents\n",
       "==============================================================\n",
       "    11                                           def fibonacci_list(n):\n",
       "    12         1        630.0    630.0      0.0      if n == 0:\n",
       "    13                                                   return 0\n",
       "    14         1        190.0    190.0      0.0      elif n ==1:\n",
       "    15                                                   return 1\n",
       "    16                                               else: \n",
       "    17         1        210.0    210.0      0.0          f_seq = [0,1]\n",
       "    18         1         90.0     90.0      0.0          i = 2\n",
       "    19    399999   51733671.0    129.3      2.0          while (i <= n):\n",
       "    20    399999 2431199352.0   6078.0     95.4              f_seq.append(f_seq[i-2]+f_seq[i-1])\n",
       "    21    399999   64448343.0    161.1      2.5              i += 1\n",
       "    22         1        830.0    830.0      0.0          return f_seq[-1]"
      ]
     },
     "metadata": {},
     "output_type": "display_data"
    }
   ],
   "source": [
    "%lprun -f fibo.fibonacci_list fibo.fibonacci_list(400_000)"
   ]
  },
  {
   "cell_type": "code",
   "execution_count": 30,
   "id": "60e9e0b9-d711-442a-b7ed-06125cb56420",
   "metadata": {
    "tags": []
   },
   "outputs": [
    {
     "data": {
      "text/plain": [
       "Timer unit: 1e-09 s\n",
       "\n",
       "Total time: 1.32109 s\n",
       "File: /home/jovyan/fibo.py\n",
       "Function: fibonacci_variable at line 24\n",
       "\n",
       "Line #      Hits         Time  Per Hit   % Time  Line Contents\n",
       "==============================================================\n",
       "    24                                           def fibonacci_variable(n):\n",
       "    25         1       1300.0   1300.0      0.0      if n == 0:\n",
       "    26                                                   return 0\n",
       "    27         1        450.0    450.0      0.0      elif n ==1:\n",
       "    28                                                   return 1\n",
       "    29                                               else: \n",
       "    30         1        380.0    380.0      0.0          f_nm2 = 0\n",
       "    31         1        260.0    260.0      0.0          f_nm1 = 1\n",
       "    32         1        290.0    290.0      0.0          i = 2\n",
       "    33    399999   55818516.0    139.5      4.2          while (i <= n):\n",
       "    34    399999 1049108428.0   2622.8     79.4              f_n = f_nm2 + f_nm1\n",
       "    35    399998   59599619.0    149.0      4.5              if i == n:\n",
       "    36         1        200.0    200.0      0.0                  return f_n \n",
       "    37                                                       # We want to update to compute the next F_n. \n",
       "    38                                                       # F_n => F_nm1\n",
       "    39                                                       # F_nm1 => F_nm2\n",
       "    40                                                       else: \n",
       "    41    399998   54751081.0    136.9      4.1                  f_nm2 = f_nm1\n",
       "    42    399998   37803804.0     94.5      2.9                  f_nm1 = f_n\n",
       "    43    399998   64010454.0    160.0      4.8                  i += 1"
      ]
     },
     "metadata": {},
     "output_type": "display_data"
    }
   ],
   "source": [
    "%lprun -f fibo.fibonacci_variable fibo.fibonacci_variable(400_000)"
   ]
  },
  {
   "cell_type": "code",
   "execution_count": null,
   "id": "28dc9fc0-e583-4a70-b0ef-e2134e9da6f8",
   "metadata": {},
   "outputs": [],
   "source": []
  }
 ],
 "metadata": {
  "kernelspec": {
   "display_name": "main",
   "language": "python",
   "name": "main"
  },
  "language_info": {
   "codemirror_mode": {
    "name": "ipython",
    "version": 3
   },
   "file_extension": ".py",
   "mimetype": "text/x-python",
   "name": "python",
   "nbconvert_exporter": "python",
   "pygments_lexer": "ipython3",
   "version": "3.11.4"
  },
  "toc-showmarkdowntxt": false
 },
 "nbformat": 4,
 "nbformat_minor": 5
}
