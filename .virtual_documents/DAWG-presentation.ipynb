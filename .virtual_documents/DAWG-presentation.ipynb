





import pandas as pd





# conda install pandas








df1 = pd.read_csv("table1.csv")
df2 = pd.read_csv("table2.csv")
df3 = pd.read_csv("table3.csv")
df4 = pd.read_csv("table4.csv")
df5 = pd.read_csv("table5.csv")
df6 = pd.read_csv("table6.csv")
df7 = pd.read_csv("table7.csv")



display(df1,df2,df3,df4,df5,df6,df7)


pd.merge(df5,df7, on=['Column A'], how='outer')


# NaN means not a number





# 1

files = [ "roster.csv", "11-13-2023.csv", "11-14-2023.csv", "11-15-2023.csv", "11-17-2023.csv" ]

roster = pd.read_csv(files[0])
df13 = pd.read_csv(files[1])
df14 = pd.read_csv(files[2])
df15 = pd.read_csv(files[3])
df17 = pd.read_csv(files[4])


roster


df13


df = pd.merge(roster, df13, on='Name', how='left')










