





import pandas as pd








# Load tables for exercises
df1 = pd.read_csv("table1.csv")
df2 = pd.read_csv("table2.csv")
df3 = pd.read_csv("table3.csv")
df4 = pd.read_csv("table4.csv")
df5 = pd.read_csv("table5.csv")
df6 = pd.read_csv("table6.csv")
df7 = pd.read_csv("table7.csv")


# pd.read_csv?


# print df1
df1


# print df2
# Write your code below
df2





# pd.concat()
pd.concat([df1,df3], join="outer")





# pd.concat()


pd.concat([df1,df3], join="inner")


df4


df7


df1, df5


pd.merge(df5,df7, on=['Column A'], how='outer')


pd.merge(df5,df7, how='cross')


# NaN means not a number





# 1

files = [ "roster.csv", "11-13-2023.csv", "11-14-2023.csv", "11-15-2023.csv", "11-17-2023.csv" ]

roster = pd.read_csv(files[0])
df13 = pd.read_csv(files[1])
df14 = pd.read_csv(files[2])
df15 = pd.read_csv(files[3])
df17 = pd.read_csv(files[4])


roster


df13


df = pd.merge(roster, df13, on='Name', how='left')












left = pd.DataFrame(
    {
        "key": ["K0", "K1", "K2", "K3"],
        "A": ["A0", "A1", "A2", "A3"],
        "B": ["B0", "B1", "B2", "B3"],
    }
)

right = pd.DataFrame(
    {
        "key": ["K0", "K1", "K2", "K3"],
        "C": ["C0", "C1", "C2", "C3"],
        "D": ["D0", "D1", "D2", "D3"],
    }
)

result = pd.merge(left, right, on="key", how='outer')


left


right


result


left = pd.DataFrame(
    {
        "key1": ["K0", "K0", "K1", "K2"],
        "key2": ["K0", "K1", "K0", "K1"],
        "A": ["A0", "A1", "A2", "A3"],
        "B": ["B0", "B1", "B2", "B3"],
    }
)

right = pd.DataFrame(
    {
        "key1": ["K0", "K1", "K1", "K2"],
        "key2": ["K0", "K0", "K0", "K0"],
        "C": ["C0", "C1", "C2", "C3"],
        "D": ["D0", "D1", "D2", "D3"],
    }
)


result = pd.merge(left, right, on=["key1", "key2"]) #, indicator=True) #, validate='1:m')
result2 = pd.merge(left, right, on=["key1", "key2"], how='left')
result3 = pd.merge(left, right, on=["key1", "key2"], how='right')


left


right


result


result2


result3









