{
 "cells": [
  {
   "cell_type": "markdown",
   "id": "4502aa24-f30d-4a98-ab52-bde4236e1e40",
   "metadata": {
    "tags": []
   },
   "source": [
    "# Welcome\n",
    "\n",
    "## Introduction to Data Visualization in Python\n",
    "\n",
    "Date: Apr 21 2023\n",
    "\n",
    "Data Analytics Working Group\n",
    "\n",
    "## Goal\n",
    "\n",
    "* Touch the basics in plotting in Python with MatPlotLib. \n",
    "\n",
    "* If time permits, we will work on the first example on [here](https://opensource.com/article/20/4/plot-data-python).\n",
    "\n",
    "These notes will be available on [here](https://github.com/youngsuKim-CSUSB/presentations), https://github.com/youngsuKim-CSUSB/presentations. \n",
    "\n",
    "\n"
   ]
  },
  {
   "cell_type": "markdown",
   "id": "3aa20416-cdf1-4461-bda9-ecfdb419beab",
   "metadata": {},
   "source": [
    "# Preliminaries\n",
    "\n",
    "## Basic JupyterLab \n",
    "\n",
    "* How to execute cells\n",
    "* How to change mode; code/markdown/raw\n",
    "* How to install Python packages\n",
    "* How to comment and uncomment\n",
    "\n",
    "## Import package MatPlotLib\n",
    "\n",
    "We first load the package Matplotlib by typing\n",
    "\n",
    "> import matplotlib \n",
    "\n",
    "Indeed, we need a subpackage called `pyplot`. So, we need the following command.\n",
    "\n",
    "> import matplotlib.pyplot as plt\n",
    "\n",
    "This can be done as follows too.\n",
    "\n",
    "> from matplotlib import pyplot as plt\n",
    "\n"
   ]
  },
  {
   "cell_type": "code",
   "execution_count": null,
   "id": "4fa84de1-d5a2-40e8-bd8c-5f4a81e5ecf8",
   "metadata": {
    "tags": []
   },
   "outputs": [],
   "source": [
    "import matplotlib.pyplot as plt\n",
    "# from matplotlib import pyplot as plt # it does the same as above"
   ]
  },
  {
   "cell_type": "markdown",
   "id": "f09a3b2d-bc66-4955-a90e-d3c52f17f1aa",
   "metadata": {},
   "source": [
    "If the package is not installed, you can try one of the following methods without leaving the JupyterLab.\n",
    "\n",
    "> conda install matplotlib\n",
    "\n",
    "> pip install matplotlib\n",
    "\n",
    "Since I already installed it, let's try it for `pandas` by typing\n",
    "\n",
    "> conda install pandas"
   ]
  },
  {
   "cell_type": "code",
   "execution_count": null,
   "id": "ef7401a9-ebe0-48b2-a317-9ad55d4deca6",
   "metadata": {
    "tags": []
   },
   "outputs": [],
   "source": [
    "# conda install pandas"
   ]
  },
  {
   "cell_type": "markdown",
   "id": "71e5c206-07c3-487e-a128-c2204bbb1e2f",
   "metadata": {
    "tags": []
   },
   "source": [
    "# Ploting functions \n",
    "\n",
    "**Example**: We want to find the area enclosed by functions $y_1 = -x^2+4$ and $y_2 = 5x$. We want to first sketch their graphs. Sorry but back to Calculus. \n",
    "\n",
    "## Let's plot!\n",
    "\n",
    "Since it is a funtion in $x$, $x$-values determine $y$-values. In theory, we can plot those functions on the real line $\\mathbb{R} = ( -\\infty, \\infty)$. This is a not a good place to talk about infinity. Rather, we plot the functions for a \"small\" region. \n",
    "\n",
    "To do that we define the range of $x$ to be $(-10,10)$ as follows. \n",
    "\n",
    "> x = range(-10,10,1)\n",
    "\n",
    "Ok, this will give us an error since only intergers can be the stepsize."
   ]
  },
  {
   "cell_type": "code",
   "execution_count": null,
   "id": "d5cdeaea-c41d-4c77-885f-c91782d248d8",
   "metadata": {
    "tags": []
   },
   "outputs": [],
   "source": [
    "x = range(-10,10,1)"
   ]
  },
  {
   "cell_type": "code",
   "execution_count": null,
   "id": "e3a9b06f-8a36-4553-9e9c-6f3d2ce8a244",
   "metadata": {},
   "outputs": [],
   "source": [
    "x\n",
    "## add"
   ]
  },
  {
   "cell_type": "code",
   "execution_count": null,
   "id": "86b6f17f-fd85-4ba7-976b-4ea7b3c9813b",
   "metadata": {
    "tags": []
   },
   "outputs": [],
   "source": [
    "y1 = [ -x*x + 4 for x in x ] #list comprehension\n",
    "y2 = [ 2*x for x in x ] "
   ]
  },
  {
   "cell_type": "markdown",
   "id": "1df5055a-0603-41aa-bcaf-b027ff276bf2",
   "metadata": {},
   "source": [
    "Plotting is simple!"
   ]
  },
  {
   "cell_type": "code",
   "execution_count": null,
   "id": "e51ab88c-9346-4a5f-8d71-a81f14e83c01",
   "metadata": {
    "tags": []
   },
   "outputs": [],
   "source": [
    "plt.plot(x,y1)"
   ]
  },
  {
   "cell_type": "code",
   "execution_count": null,
   "id": "6755c3d0-35bb-439d-973e-d702f1ac5998",
   "metadata": {
    "tags": []
   },
   "outputs": [],
   "source": [
    "plt.plot(x,y2)"
   ]
  },
  {
   "cell_type": "markdown",
   "id": "a01ccd09-e076-44a1-ab46-6fb879ad8ae2",
   "metadata": {},
   "source": [
    "## Questions\n",
    "\n",
    "1. How to plot $y_1, y_2$ together?\n",
    "1. How to make the curves smoother (or discrete)?\n",
    "1. Can we set the color or change the line style?\n",
    "1. Can we zoom in?"
   ]
  },
  {
   "cell_type": "markdown",
   "id": "3f673ed6-ec50-4dea-a0bc-b903d5dc2230",
   "metadata": {},
   "source": [
    "## Plotting multiple objects"
   ]
  },
  {
   "cell_type": "code",
   "execution_count": null,
   "id": "c5572291-d1ff-4512-af78-6430ac5edea3",
   "metadata": {
    "tags": []
   },
   "outputs": [],
   "source": [
    "plt.plot(x,y1,y2)\n",
    "\n",
    "# Does anyone know what went wrong?"
   ]
  },
  {
   "cell_type": "code",
   "execution_count": null,
   "id": "6381ddf7-b0bb-46ed-8373-1bf0e6ffdf67",
   "metadata": {},
   "outputs": [],
   "source": []
  },
  {
   "cell_type": "code",
   "execution_count": null,
   "id": "4794febb-7445-4ead-a859-884723c7fed3",
   "metadata": {},
   "outputs": [],
   "source": []
  },
  {
   "cell_type": "code",
   "execution_count": null,
   "id": "ff2dcddd-6294-4215-a771-bd71b4b05ea4",
   "metadata": {},
   "outputs": [],
   "source": []
  },
  {
   "cell_type": "code",
   "execution_count": null,
   "id": "a03965f7-e021-48c3-94f6-20dcff6f8806",
   "metadata": {},
   "outputs": [],
   "source": []
  },
  {
   "cell_type": "code",
   "execution_count": null,
   "id": "f58b36e4-4527-47af-a3a7-6a812ed2eff7",
   "metadata": {
    "tags": []
   },
   "outputs": [],
   "source": [
    "plt.plot(x,y1)\n",
    "plt.plot(x,y2)"
   ]
  },
  {
   "cell_type": "code",
   "execution_count": null,
   "id": "c9320051-2f87-459a-9366-d597d1d4f3da",
   "metadata": {
    "tags": []
   },
   "outputs": [],
   "source": [
    "# plt.figure()\n",
    "plt.plot(x,y1)\n",
    "plt.plot(x,y2)\n",
    "plt.tight_layout()"
   ]
  },
  {
   "cell_type": "markdown",
   "id": "6f426b8f-e6b7-4395-b606-045af2399dce",
   "metadata": {},
   "source": [
    "### Improvements\n",
    "\n",
    "* Change the range\n",
    "* Make the curves smoother (or discrete)\n",
    "* Change the line style\n",
    "* Add labels\n",
    "* For help, use \n",
    "\n",
    "> plt.plot?"
   ]
  },
  {
   "cell_type": "code",
   "execution_count": null,
   "id": "7786097e-9627-4f14-83ff-23a3554b70d4",
   "metadata": {
    "tags": []
   },
   "outputs": [],
   "source": [
    "# old code\n",
    "x = range(-10,10,1)\n",
    "y1 = [ -x*x + 4 for x in x ] \n",
    "y2 = [ 5*x for x in x ] \n",
    "\n",
    "# What can we improve?"
   ]
  },
  {
   "cell_type": "code",
   "execution_count": null,
   "id": "6646ed29-15c9-480d-bb92-f71f4f2fc1b7",
   "metadata": {},
   "outputs": [],
   "source": [
    "range?"
   ]
  },
  {
   "cell_type": "markdown",
   "id": "52bc2445-3cdf-45c7-8c10-ccbff7bb1cc3",
   "metadata": {},
   "source": [
    "---\n",
    "\n",
    "We need a finer grid and `numpy` is a good choice. \n",
    "\n",
    "---"
   ]
  },
  {
   "cell_type": "code",
   "execution_count": null,
   "id": "257a7965-384a-4e41-bf23-678203c36478",
   "metadata": {
    "tags": []
   },
   "outputs": [],
   "source": [
    "# new code with numpy\n",
    "import numpy as np\n",
    "\n",
    "x = np.linspace(-10,10,20)"
   ]
  },
  {
   "cell_type": "code",
   "execution_count": null,
   "id": "33e2533d-948d-4837-9ee2-ed3b5a5b222f",
   "metadata": {
    "tags": []
   },
   "outputs": [],
   "source": [
    "x"
   ]
  },
  {
   "cell_type": "code",
   "execution_count": null,
   "id": "a82ad2e1-4d27-4cbb-be5c-b1aba111f1c1",
   "metadata": {
    "tags": []
   },
   "outputs": [],
   "source": [
    "y_2 = 5*x"
   ]
  },
  {
   "cell_type": "code",
   "execution_count": null,
   "id": "6b28af64-9e67-45f5-be8d-0001b48d319a",
   "metadata": {
    "tags": []
   },
   "outputs": [],
   "source": [
    "for (a,b) in zip(x,y_2):\n",
    "    print(a,b)\n",
    "    # print(f\"{a:>4.1f},{b:>6.1f}\") #fun with formatting\n",
    "    # https://www.pythoncheatsheet.org/cheatsheet/string-formatting\n",
    "    # https://realpython.com/python-string-formatting/\n",
    "    # https://learnpython.com/blog/python-string-formatting/"
   ]
  },
  {
   "cell_type": "code",
   "execution_count": null,
   "id": "b20b1fae-598c-43f3-b8ff-e757c7e14836",
   "metadata": {
    "tags": []
   },
   "outputs": [],
   "source": [
    "# new code full\n",
    "x = np.linspace(-10,10,20) #update range and number of points\n",
    "\n",
    "#update this\n",
    "y1 = [ -x*x + 4 for x in x ] \n",
    "y2 = [ 5*x for x in x ] \n",
    "\n",
    "# plt.figure()\n",
    "plt.plot(x,y1)\n",
    "plt.plot(x,y2)\n",
    "plt.tight_layout()"
   ]
  },
  {
   "cell_type": "markdown",
   "id": "308f1307-213a-4853-a649-ae06741f0624",
   "metadata": {
    "execution": {
     "iopub.execute_input": "2023-04-21T17:58:59.609924Z",
     "iopub.status.busy": "2023-04-21T17:58:59.609210Z",
     "iopub.status.idle": "2023-04-21T17:58:59.617806Z",
     "shell.execute_reply": "2023-04-21T17:58:59.616306Z",
     "shell.execute_reply.started": "2023-04-21T17:58:59.609873Z"
    }
   },
   "source": [
    "---\n",
    "Any questions?\n",
    "\n",
    "---"
   ]
  },
  {
   "cell_type": "code",
   "execution_count": null,
   "id": "e41c3ee2-7d2f-4790-ae08-24d253487b9a",
   "metadata": {
    "tags": []
   },
   "outputs": [],
   "source": [
    "# Ask audience to plot some math functions such as sin or find the equation of the tangent line at some point."
   ]
  },
  {
   "cell_type": "code",
   "execution_count": null,
   "id": "4982839d-8791-4a0c-af34-01b32439a902",
   "metadata": {},
   "outputs": [],
   "source": []
  },
  {
   "cell_type": "code",
   "execution_count": null,
   "id": "17120751-5f40-4030-abed-71da1a173d16",
   "metadata": {},
   "outputs": [],
   "source": []
  },
  {
   "cell_type": "code",
   "execution_count": null,
   "id": "7e14c094-6c88-410c-8cb8-1c843fbfb78c",
   "metadata": {},
   "outputs": [],
   "source": []
  },
  {
   "cell_type": "code",
   "execution_count": null,
   "id": "4bc56a65-f4e0-4ffa-8405-d4d598223e00",
   "metadata": {},
   "outputs": [],
   "source": []
  },
  {
   "cell_type": "markdown",
   "id": "f86ca0a7-39ba-4042-8b18-5e7b9461a40a",
   "metadata": {},
   "source": [
    "## Styles\n",
    "\n",
    "Before fine tuning anything, first checkout if there is an existing style that suits for your purpose.\n",
    "\n"
   ]
  },
  {
   "cell_type": "code",
   "execution_count": null,
   "id": "bf74f670-1c21-4807-b4dc-2cb809ea9723",
   "metadata": {
    "tags": []
   },
   "outputs": [],
   "source": [
    "dir(plt.style)"
   ]
  },
  {
   "cell_type": "code",
   "execution_count": null,
   "id": "82f06966-86e6-4636-97f8-d94eb1c63786",
   "metadata": {
    "tags": []
   },
   "outputs": [],
   "source": [
    "plt.style.available"
   ]
  },
  {
   "cell_type": "code",
   "execution_count": null,
   "id": "b96f55c4-2c7e-4f55-9ffa-f7d68807bcea",
   "metadata": {
    "tags": []
   },
   "outputs": [],
   "source": [
    "plt.style.use('default')\n",
    "# plt.style.use('fivethirtyeight')\n",
    "# plt.style.use('seaborn-v0_8-notebook')\n",
    "\n",
    "# plt.figure()\n",
    "plt.plot(x,y1)\n",
    "plt.plot(x,y2)\n",
    "plt.tight_layout()"
   ]
  },
  {
   "cell_type": "code",
   "execution_count": null,
   "id": "d4589382-061d-4f90-aab3-905ace8d0ea2",
   "metadata": {
    "tags": []
   },
   "outputs": [],
   "source": [
    "#Left for exercise\n",
    "#Let audience try different themes"
   ]
  },
  {
   "cell_type": "markdown",
   "id": "e75b3185-8bbe-4d8f-9477-09b8a477b2f9",
   "metadata": {},
   "source": [
    "## How to check all possible styles?"
   ]
  },
  {
   "cell_type": "code",
   "execution_count": null,
   "id": "095d7b96-e9f1-44a9-b18e-d3cf21080ce1",
   "metadata": {},
   "outputs": [],
   "source": []
  },
  {
   "cell_type": "code",
   "execution_count": null,
   "id": "3abb4368-7e1e-4374-8fc4-9db38b110b54",
   "metadata": {},
   "outputs": [],
   "source": []
  },
  {
   "cell_type": "code",
   "execution_count": null,
   "id": "e02b2f91-0a1e-4992-b1ae-d3ac79a5845f",
   "metadata": {},
   "outputs": [],
   "source": []
  },
  {
   "cell_type": "markdown",
   "id": "33f89a68-3125-4537-8ac6-f42e5b92afee",
   "metadata": {},
   "source": [
    "## Questions (continued)\n",
    "\n",
    "1. ~~How to plot $y_1, y_2$ together?~~\n",
    "1. ~~How to make the curves smoother (or discrete)?~~\n",
    "1. Can we set the color or change the line style?\n",
    "1. Can we zoom in?\n",
    "1. (New) How to save graphs?\n",
    "1. (New) How to we display all possible styles?\n",
    "1. More questions?"
   ]
  },
  {
   "cell_type": "code",
   "execution_count": null,
   "id": "05fbce1e-b396-4c29-a766-9c8126218a1a",
   "metadata": {},
   "outputs": [],
   "source": [
    "# %matplotlib ipympl\n",
    "# pip install ipympl"
   ]
  },
  {
   "cell_type": "code",
   "execution_count": null,
   "id": "d45b77db-a62d-4b7c-981d-a047a549ef88",
   "metadata": {},
   "outputs": [],
   "source": [
    "# %matplotlib inline"
   ]
  },
  {
   "cell_type": "code",
   "execution_count": null,
   "id": "86b624bb-e84e-49a7-8e2b-99fa83c2041d",
   "metadata": {
    "tags": []
   },
   "outputs": [],
   "source": [
    "# new code\n",
    "x = np.linspace(-10,10,20) #update range and number of points\n",
    "y1 = -x*x + 4\n",
    "y2 = 5*x\n",
    "\n",
    "# plt.figure() \n",
    "# try color, line style, etc 'r-', see https://matplotlib.org/stable/api/_as_gen/matplotlib.pyplot.plot.html\n",
    "plt.plot(x,y1) \n",
    "plt.plot(x,y2)\n",
    "plt.tight_layout()\n",
    "plt.style.use('fivethirtyeight')"
   ]
  },
  {
   "cell_type": "markdown",
   "id": "e20e0e62-e7ea-4d15-b72d-f81f5e0ed7ed",
   "metadata": {},
   "source": [
    "### To save a figure use the following"
   ]
  },
  {
   "cell_type": "code",
   "execution_count": null,
   "id": "5fcc9d12-db41-487d-81ed-712a5d04cfc8",
   "metadata": {
    "tags": []
   },
   "outputs": [],
   "source": [
    "# plt.savefig(\"output.png\") \n",
    "# explain dpi option"
   ]
  },
  {
   "cell_type": "markdown",
   "id": "d7436bed-2248-45c7-bb63-12819bcb1ea8",
   "metadata": {},
   "source": [
    "### Ticks, labels, legend"
   ]
  },
  {
   "cell_type": "code",
   "execution_count": null,
   "id": "0c264c0b-1263-427f-96c2-17617a82c6e0",
   "metadata": {},
   "outputs": [],
   "source": [
    "# https://matplotlib.org/stable/api/_as_gen/matplotlib.pyplot.xticks.html\n",
    "plt.figure()\n",
    "plt.plot(x,y1) \n",
    "plt.plot(x,y2)\n",
    "plt.tight_layout()\n",
    "\n",
    "# print(plt.xticks())\n",
    "ticks, labels = plt.xticks()\n",
    "# plt.xticks?\n",
    "# plt.xticks(ticks=ticks,labels=[\"a\",\"b\",\"c\",\"d\",\"e\"],rotation=45)\n",
    "####\n",
    "# plt.xticks([])\n",
    "# plt.yticks([])"
   ]
  },
  {
   "cell_type": "markdown",
   "id": "35be64da-cd19-48c8-8566-83a89e17bc2e",
   "metadata": {},
   "source": [
    "## Checkpoint\n",
    "\n",
    "* Plot graphs of the form y = f(x)\n",
    "* Scatter plot\n",
    "* ticks, labels\n",
    "* style"
   ]
  },
  {
   "cell_type": "markdown",
   "id": "8729f10d-4e51-43ca-b3e0-dcc92056aadc",
   "metadata": {},
   "source": [
    "### More graphs and subplots\n",
    "\n",
    "We can do a lot more with python packages. A standrad form of graphs are \n",
    "\n",
    "* plot\n",
    "* scatter\n",
    "* [bar](https://matplotlib.org/stable/api/_as_gen/matplotlib.pyplot.bar.html) <- API\n",
    "* histogram\n",
    "* [pie chart](https://matplotlib.org/stable/gallery/pie_and_polar_charts/pie_features.html) <- gallery\n",
    "\n"
   ]
  },
  {
   "cell_type": "code",
   "execution_count": null,
   "id": "878910ef-797b-45ae-bbaa-982966ecdd74",
   "metadata": {},
   "outputs": [],
   "source": [
    "# plt.figure(figsize=(4,4))\n",
    "plt.bar(x,y1,width=0.5) \n",
    "ticks, labels = plt.xticks()"
   ]
  },
  {
   "cell_type": "code",
   "execution_count": null,
   "id": "29da14f6-96eb-4c1d-892f-8c52008ca0bd",
   "metadata": {},
   "outputs": [],
   "source": []
  },
  {
   "cell_type": "code",
   "execution_count": null,
   "id": "b18891a6-125b-4b9b-845e-b844c7301a3a",
   "metadata": {},
   "outputs": [],
   "source": []
  },
  {
   "cell_type": "code",
   "execution_count": null,
   "id": "4ca81c95-477f-456e-88a6-30bdfed90e5e",
   "metadata": {},
   "outputs": [],
   "source": []
  },
  {
   "cell_type": "markdown",
   "id": "0cd6a993-df56-44bc-8913-12796e790193",
   "metadata": {},
   "source": [
    "## How to check all possible styles?"
   ]
  },
  {
   "cell_type": "code",
   "execution_count": null,
   "id": "51f250f5-68d5-40ae-8d9c-49dff0a1294a",
   "metadata": {
    "tags": []
   },
   "outputs": [],
   "source": [
    "def style_display(style='default'):\n",
    "    x = np.linspace(-10,10,20) \n",
    "    y1 = x*x\n",
    "\n",
    "    plt.style.use(style)\n",
    "    plt.figure(figsize=(5,5))\n",
    "    plt.plot(x,y1)\n",
    "    plt.title(style)\n",
    "    plt.tight_layout()\n",
    "    plt.show()\n",
    "\n",
    "style_display('fivethirtyeight')"
   ]
  },
  {
   "cell_type": "markdown",
   "id": "9f93943c-59fa-4ec6-9581-e65a6ff94b3c",
   "metadata": {},
   "source": [
    "Loop over all possible styles\n",
    "--\n",
    "\n"
   ]
  },
  {
   "cell_type": "code",
   "execution_count": null,
   "id": "f0312ef2-1a00-440b-afcd-38069c7c493f",
   "metadata": {
    "tags": []
   },
   "outputs": [],
   "source": [
    "import time \n",
    "from IPython.display import clear_output\n",
    "\n",
    "for style in plt.style.available:\n",
    "    clear_output(wait=True)\n",
    "    style_display(style)\n",
    "    time.sleep(0.2)"
   ]
  },
  {
   "cell_type": "code",
   "execution_count": null,
   "id": "e2022089-553a-4d07-aab4-3bf4d89769fe",
   "metadata": {},
   "outputs": [],
   "source": []
  },
  {
   "cell_type": "code",
   "execution_count": null,
   "id": "e3ac869a-afb8-4910-8897-c953d9a9a9f4",
   "metadata": {},
   "outputs": [],
   "source": []
  },
  {
   "cell_type": "code",
   "execution_count": null,
   "id": "1a0f6cf6-c604-437b-abea-51686f20360a",
   "metadata": {},
   "outputs": [],
   "source": []
  },
  {
   "cell_type": "code",
   "execution_count": null,
   "id": "76c55218-bafb-4d5b-83e6-426d1966cbe6",
   "metadata": {},
   "outputs": [],
   "source": []
  },
  {
   "cell_type": "code",
   "execution_count": null,
   "id": "c1e0aebc-89de-456d-aeb5-7451eeb5260a",
   "metadata": {
    "tags": []
   },
   "outputs": [],
   "source": [
    "import time \n",
    "from IPython.display import clear_output\n",
    "\n",
    "def style_display(style='default'):\n",
    "    x = np.linspace(-10,10,20) \n",
    "    y1 = x*x\n",
    "\n",
    "    plt.style.use(style)\n",
    "    plt.figure(figsize=(5,5))\n",
    "    plt.plot(x,y1)\n",
    "    plt.title(style)\n",
    "    plt.tight_layout()\n",
    "    plt.show()\n",
    "\n",
    "for style in plt.style.available:\n",
    "    clear_output(wait=True)\n",
    "    style_display(style)\n",
    "    time.sleep(0.2)"
   ]
  },
  {
   "cell_type": "code",
   "execution_count": null,
   "id": "276dd9ab-1937-4968-903c-ec96a59864ba",
   "metadata": {},
   "outputs": [],
   "source": []
  },
  {
   "cell_type": "code",
   "execution_count": null,
   "id": "1fe906f8-a21a-4b56-85d5-e09fcec09906",
   "metadata": {},
   "outputs": [],
   "source": []
  },
  {
   "cell_type": "markdown",
   "id": "f2d08e68-52ad-4395-bf14-1d1615fba48d",
   "metadata": {
    "jp-MarkdownHeadingCollapsed": true,
    "tags": []
   },
   "source": [
    "### Useful but we didn't cover today\n",
    "\n",
    "`subplot` and `subplots`"
   ]
  },
  {
   "cell_type": "markdown",
   "id": "c6302728-b1d0-4207-8e98-fc8d8489df14",
   "metadata": {},
   "source": [
    "## plt subplot"
   ]
  },
  {
   "cell_type": "code",
   "execution_count": null,
   "id": "47c82779-61a7-4a68-80f0-956ece768ae9",
   "metadata": {},
   "outputs": [],
   "source": [
    "fig, ax = plt.subplots()"
   ]
  },
  {
   "cell_type": "code",
   "execution_count": null,
   "id": "1fa83b2f-7ad2-4e13-94ce-b3ea6d293464",
   "metadata": {
    "tags": []
   },
   "outputs": [],
   "source": [
    "# From https://matplotlib.org/stable/gallery/subplots_axes_and_figures/axes_margins.html#sphx-glr-gallery-subplots-axes-and-figures-axes-margins-py\n",
    "import numpy as np\n",
    "import matplotlib.pyplot as plt\n",
    "from matplotlib.patches import Polygon\n",
    "\n",
    "def f(t):\n",
    "    return np.exp(-t) * np.cos(2*np.pi*t)\n",
    "\n",
    "t1 = np.arange(0.0, 3.0, 0.01)\n",
    "\n",
    "ax1 = plt.subplot(212)\n",
    "ax1.margins(0.05)           # Default margin is 0.05, value 0 means fit\n",
    "ax1.plot(t1, f(t1))\n",
    "# ax1.cla() \n",
    "\n",
    "ax2 = plt.subplot(221)\n",
    "ax2.margins(2, 2)           # Values >0.0 zoom out\n",
    "ax2.plot(t1, f(t1))\n",
    "ax2.set_title('Zoomed out')\n",
    "\n",
    "ax3 = plt.subplot(222)\n",
    "ax3.margins(x=0, y=-0.25)   # Values in (-0.5, 0.0) zooms in to center\n",
    "ax3.plot(t1, f(t1))\n",
    "ax3.set_title('Zoomed in')\n",
    "\n",
    "# ax4 = plt.subplot(231)\n",
    "# ax4.margins(0.05)           # Default margin is 0.05, value 0 means fit\n",
    "# ax4.plot(t1, f(t1))\n",
    "\n",
    "plt.show()"
   ]
  },
  {
   "cell_type": "markdown",
   "id": "6ee4cfa5-eee1-45fd-8755-db09a94bc4dd",
   "metadata": {},
   "source": [
    "# Questions?\n",
    "\n",
    "## Thank you!"
   ]
  },
  {
   "cell_type": "code",
   "execution_count": null,
   "id": "0d6f8e7e-9498-48b0-8a1d-a5ea21fd2ea7",
   "metadata": {},
   "outputs": [],
   "source": []
  }
 ],
 "metadata": {
  "kernelspec": {
   "display_name": "Python (main)",
   "language": "python",
   "name": "main"
  },
  "language_info": {
   "codemirror_mode": {
    "name": "ipython",
    "version": 3
   },
   "file_extension": ".py",
   "mimetype": "text/x-python",
   "name": "python",
   "nbconvert_exporter": "python",
   "pygments_lexer": "ipython3",
   "version": "3.10.8"
  }
 },
 "nbformat": 4,
 "nbformat_minor": 5
}
