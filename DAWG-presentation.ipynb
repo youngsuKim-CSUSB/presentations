{
 "cells": [
  {
   "cell_type": "markdown",
   "id": "4502aa24-f30d-4a98-ab52-bde4236e1e40",
   "metadata": {
    "tags": []
   },
   "source": [
    "# Welcome\n",
    "\n",
    "## Merging in Pandas\n",
    "\n",
    "Date: 11/17/2023\n",
    "\n",
    "Data Analytics Working Group\n",
    "\n",
    "## Goal\n",
    "\n",
    "* Learn the Pandas merging method \n",
    "\n",
    "* Reference, https://pandas.pydata.org/docs/user_guide/merging.html\n",
    "\n",
    "These notes will be available on [here](https://github.com/youngsuKim-CSUSB/presentations), https://github.com/youngsuKim-CSUSB/presentations. \n",
    "\n",
    "\n"
   ]
  },
  {
   "cell_type": "markdown",
   "id": "3aa20416-cdf1-4461-bda9-ecfdb419beab",
   "metadata": {},
   "source": [
    "# Preliminaries\n",
    "\n",
    "## Basic JupyterLab \n",
    "\n",
    "* How to execute cells\n",
    "* How to change mode; code/markdown/raw\n",
    "* How to install Python packages\n",
    "* How to comment and uncomment\n",
    "\n",
    "## Import Pandas and CSV files\n",
    "\n",
    "We first load the package Matplotlib by typing\n",
    "\n",
    "> import pandas as pd"
   ]
  },
  {
   "cell_type": "code",
   "execution_count": 5,
   "id": "4fa84de1-d5a2-40e8-bd8c-5f4a81e5ecf8",
   "metadata": {
    "execution": {
     "iopub.execute_input": "2023-11-16T23:43:11.525809Z",
     "iopub.status.busy": "2023-11-16T23:43:11.525439Z",
     "iopub.status.idle": "2023-11-16T23:43:17.652010Z",
     "shell.execute_reply": "2023-11-16T23:43:17.651494Z",
     "shell.execute_reply.started": "2023-11-16T23:43:11.525783Z"
    },
    "tags": []
   },
   "outputs": [],
   "source": [
    "import pandas as pd"
   ]
  },
  {
   "cell_type": "markdown",
   "id": "f09a3b2d-bc66-4955-a90e-d3c52f17f1aa",
   "metadata": {},
   "source": [
    "If the package is not installed, you can try one of the following methods without leaving the JupyterLab.\n",
    "\n",
    "> conda install pandas\n",
    "\n",
    "> pip install pandas"
   ]
  },
  {
   "cell_type": "code",
   "execution_count": 1,
   "id": "ef7401a9-ebe0-48b2-a317-9ad55d4deca6",
   "metadata": {
    "execution": {
     "iopub.execute_input": "2023-11-16T23:38:06.427270Z",
     "iopub.status.busy": "2023-11-16T23:38:06.426500Z",
     "iopub.status.idle": "2023-11-16T23:38:06.433570Z",
     "shell.execute_reply": "2023-11-16T23:38:06.432732Z",
     "shell.execute_reply.started": "2023-11-16T23:38:06.427198Z"
    },
    "tags": []
   },
   "outputs": [],
   "source": [
    "# conda install pandas"
   ]
  },
  {
   "cell_type": "markdown",
   "id": "d0bcb0fa-d0b7-4816-aed1-1a75b6a67f51",
   "metadata": {},
   "source": [
    "# Load CSV files as Datasets\n",
    "\n",
    "Use `pd.read_csv(filename)` but first download the CSV files by typing\n",
    "\n"
   ]
  },
  {
   "cell_type": "code",
   "execution_count": 3,
   "id": "e3ac869a-afb8-4910-8897-c953d9a9a9f4",
   "metadata": {
    "execution": {
     "iopub.execute_input": "2023-11-16T23:41:04.274857Z",
     "iopub.status.busy": "2023-11-16T23:41:04.274460Z",
     "iopub.status.idle": "2023-11-16T23:41:04.434579Z",
     "shell.execute_reply": "2023-11-16T23:41:04.433648Z",
     "shell.execute_reply.started": "2023-11-16T23:41:04.274824Z"
    }
   },
   "outputs": [
    {
     "name": "stdout",
     "output_type": "stream",
     "text": [
      "curl: try 'curl --help' or 'curl --manual' for more information\n"
     ]
    }
   ],
   "source": []
  },
  {
   "cell_type": "code",
   "execution_count": 19,
   "id": "1a0f6cf6-c604-437b-abea-51686f20360a",
   "metadata": {
    "execution": {
     "iopub.execute_input": "2023-11-16T23:55:34.955446Z",
     "iopub.status.busy": "2023-11-16T23:55:34.954361Z",
     "iopub.status.idle": "2023-11-16T23:55:34.987398Z",
     "shell.execute_reply": "2023-11-16T23:55:34.986132Z",
     "shell.execute_reply.started": "2023-11-16T23:55:34.955380Z"
    }
   },
   "outputs": [],
   "source": [
    "df1 = pd.read_csv(\"table1.csv\")\n",
    "df2 = pd.read_csv(\"table2.csv\")\n",
    "df3 = pd.read_csv(\"table3.csv\")\n",
    "df4 = pd.read_csv(\"table4.csv\")\n",
    "df5 = pd.read_csv(\"table5.csv\")\n",
    "df6 = pd.read_csv(\"table6.csv\")\n",
    "df7 = pd.read_csv(\"table7.csv\")\n"
   ]
  },
  {
   "cell_type": "code",
   "execution_count": 23,
   "id": "76c55218-bafb-4d5b-83e6-426d1966cbe6",
   "metadata": {
    "execution": {
     "iopub.execute_input": "2023-11-16T23:56:23.082041Z",
     "iopub.status.busy": "2023-11-16T23:56:23.081608Z",
     "iopub.status.idle": "2023-11-16T23:56:23.112019Z",
     "shell.execute_reply": "2023-11-16T23:56:23.111473Z",
     "shell.execute_reply.started": "2023-11-16T23:56:23.082012Z"
    }
   },
   "outputs": [
    {
     "data": {
      "text/html": [
       "<div>\n",
       "<style scoped>\n",
       "    .dataframe tbody tr th:only-of-type {\n",
       "        vertical-align: middle;\n",
       "    }\n",
       "\n",
       "    .dataframe tbody tr th {\n",
       "        vertical-align: top;\n",
       "    }\n",
       "\n",
       "    .dataframe thead th {\n",
       "        text-align: right;\n",
       "    }\n",
       "</style>\n",
       "<table border=\"1\" class=\"dataframe\">\n",
       "  <thead>\n",
       "    <tr style=\"text-align: right;\">\n",
       "      <th></th>\n",
       "      <th>Column A</th>\n",
       "      <th>Column B</th>\n",
       "    </tr>\n",
       "  </thead>\n",
       "  <tbody>\n",
       "    <tr>\n",
       "      <th>0</th>\n",
       "      <td>1</td>\n",
       "      <td>10</td>\n",
       "    </tr>\n",
       "    <tr>\n",
       "      <th>1</th>\n",
       "      <td>2</td>\n",
       "      <td>20</td>\n",
       "    </tr>\n",
       "    <tr>\n",
       "      <th>2</th>\n",
       "      <td>3</td>\n",
       "      <td>30</td>\n",
       "    </tr>\n",
       "    <tr>\n",
       "      <th>3</th>\n",
       "      <td>4</td>\n",
       "      <td>40</td>\n",
       "    </tr>\n",
       "    <tr>\n",
       "      <th>4</th>\n",
       "      <td>5</td>\n",
       "      <td>50</td>\n",
       "    </tr>\n",
       "  </tbody>\n",
       "</table>\n",
       "</div>"
      ],
      "text/plain": [
       "   Column A  Column B\n",
       "0         1        10\n",
       "1         2        20\n",
       "2         3        30\n",
       "3         4        40\n",
       "4         5        50"
      ]
     },
     "metadata": {},
     "output_type": "display_data"
    },
    {
     "data": {
      "text/html": [
       "<div>\n",
       "<style scoped>\n",
       "    .dataframe tbody tr th:only-of-type {\n",
       "        vertical-align: middle;\n",
       "    }\n",
       "\n",
       "    .dataframe tbody tr th {\n",
       "        vertical-align: top;\n",
       "    }\n",
       "\n",
       "    .dataframe thead th {\n",
       "        text-align: right;\n",
       "    }\n",
       "</style>\n",
       "<table border=\"1\" class=\"dataframe\">\n",
       "  <thead>\n",
       "    <tr style=\"text-align: right;\">\n",
       "      <th></th>\n",
       "      <th>Column A</th>\n",
       "      <th>Column B</th>\n",
       "    </tr>\n",
       "  </thead>\n",
       "  <tbody>\n",
       "    <tr>\n",
       "      <th>0</th>\n",
       "      <td>6</td>\n",
       "      <td>60</td>\n",
       "    </tr>\n",
       "    <tr>\n",
       "      <th>1</th>\n",
       "      <td>7</td>\n",
       "      <td>70</td>\n",
       "    </tr>\n",
       "  </tbody>\n",
       "</table>\n",
       "</div>"
      ],
      "text/plain": [
       "   Column A  Column B\n",
       "0         6        60\n",
       "1         7        70"
      ]
     },
     "metadata": {},
     "output_type": "display_data"
    },
    {
     "data": {
      "text/html": [
       "<div>\n",
       "<style scoped>\n",
       "    .dataframe tbody tr th:only-of-type {\n",
       "        vertical-align: middle;\n",
       "    }\n",
       "\n",
       "    .dataframe tbody tr th {\n",
       "        vertical-align: top;\n",
       "    }\n",
       "\n",
       "    .dataframe thead th {\n",
       "        text-align: right;\n",
       "    }\n",
       "</style>\n",
       "<table border=\"1\" class=\"dataframe\">\n",
       "  <thead>\n",
       "    <tr style=\"text-align: right;\">\n",
       "      <th></th>\n",
       "      <th>Column A</th>\n",
       "      <th>Column B</th>\n",
       "    </tr>\n",
       "  </thead>\n",
       "  <tbody>\n",
       "    <tr>\n",
       "      <th>0</th>\n",
       "      <td>4</td>\n",
       "      <td>40</td>\n",
       "    </tr>\n",
       "    <tr>\n",
       "      <th>1</th>\n",
       "      <td>9</td>\n",
       "      <td>90</td>\n",
       "    </tr>\n",
       "  </tbody>\n",
       "</table>\n",
       "</div>"
      ],
      "text/plain": [
       "   Column A  Column B\n",
       "0         4        40\n",
       "1         9        90"
      ]
     },
     "metadata": {},
     "output_type": "display_data"
    },
    {
     "data": {
      "text/html": [
       "<div>\n",
       "<style scoped>\n",
       "    .dataframe tbody tr th:only-of-type {\n",
       "        vertical-align: middle;\n",
       "    }\n",
       "\n",
       "    .dataframe tbody tr th {\n",
       "        vertical-align: top;\n",
       "    }\n",
       "\n",
       "    .dataframe thead th {\n",
       "        text-align: right;\n",
       "    }\n",
       "</style>\n",
       "<table border=\"1\" class=\"dataframe\">\n",
       "  <thead>\n",
       "    <tr style=\"text-align: right;\">\n",
       "      <th></th>\n",
       "      <th>Column A</th>\n",
       "      <th>Column B</th>\n",
       "      <th>Column C</th>\n",
       "    </tr>\n",
       "  </thead>\n",
       "  <tbody>\n",
       "    <tr>\n",
       "      <th>0</th>\n",
       "      <td>1</td>\n",
       "      <td>10</td>\n",
       "      <td>2</td>\n",
       "    </tr>\n",
       "    <tr>\n",
       "      <th>1</th>\n",
       "      <td>2</td>\n",
       "      <td>20</td>\n",
       "      <td>4</td>\n",
       "    </tr>\n",
       "    <tr>\n",
       "      <th>2</th>\n",
       "      <td>3</td>\n",
       "      <td>30</td>\n",
       "      <td>6</td>\n",
       "    </tr>\n",
       "    <tr>\n",
       "      <th>3</th>\n",
       "      <td>4</td>\n",
       "      <td>40</td>\n",
       "      <td>8</td>\n",
       "    </tr>\n",
       "    <tr>\n",
       "      <th>4</th>\n",
       "      <td>5</td>\n",
       "      <td>50</td>\n",
       "      <td>10</td>\n",
       "    </tr>\n",
       "  </tbody>\n",
       "</table>\n",
       "</div>"
      ],
      "text/plain": [
       "   Column A  Column B  Column C\n",
       "0         1        10         2\n",
       "1         2        20         4\n",
       "2         3        30         6\n",
       "3         4        40         8\n",
       "4         5        50        10"
      ]
     },
     "metadata": {},
     "output_type": "display_data"
    },
    {
     "data": {
      "text/html": [
       "<div>\n",
       "<style scoped>\n",
       "    .dataframe tbody tr th:only-of-type {\n",
       "        vertical-align: middle;\n",
       "    }\n",
       "\n",
       "    .dataframe tbody tr th {\n",
       "        vertical-align: top;\n",
       "    }\n",
       "\n",
       "    .dataframe thead th {\n",
       "        text-align: right;\n",
       "    }\n",
       "</style>\n",
       "<table border=\"1\" class=\"dataframe\">\n",
       "  <thead>\n",
       "    <tr style=\"text-align: right;\">\n",
       "      <th></th>\n",
       "      <th>Column A</th>\n",
       "      <th>Column B</th>\n",
       "    </tr>\n",
       "  </thead>\n",
       "  <tbody>\n",
       "    <tr>\n",
       "      <th>0</th>\n",
       "      <td>3</td>\n",
       "      <td>30</td>\n",
       "    </tr>\n",
       "    <tr>\n",
       "      <th>1</th>\n",
       "      <td>6</td>\n",
       "      <td>60</td>\n",
       "    </tr>\n",
       "  </tbody>\n",
       "</table>\n",
       "</div>"
      ],
      "text/plain": [
       "   Column A  Column B\n",
       "0         3        30\n",
       "1         6        60"
      ]
     },
     "metadata": {},
     "output_type": "display_data"
    },
    {
     "data": {
      "text/html": [
       "<div>\n",
       "<style scoped>\n",
       "    .dataframe tbody tr th:only-of-type {\n",
       "        vertical-align: middle;\n",
       "    }\n",
       "\n",
       "    .dataframe tbody tr th {\n",
       "        vertical-align: top;\n",
       "    }\n",
       "\n",
       "    .dataframe thead th {\n",
       "        text-align: right;\n",
       "    }\n",
       "</style>\n",
       "<table border=\"1\" class=\"dataframe\">\n",
       "  <thead>\n",
       "    <tr style=\"text-align: right;\">\n",
       "      <th></th>\n",
       "      <th>Column A</th>\n",
       "      <th>Column B</th>\n",
       "    </tr>\n",
       "  </thead>\n",
       "  <tbody>\n",
       "    <tr>\n",
       "      <th>0</th>\n",
       "      <td>2</td>\n",
       "      <td>20</td>\n",
       "    </tr>\n",
       "    <tr>\n",
       "      <th>1</th>\n",
       "      <td>3</td>\n",
       "      <td>30</td>\n",
       "    </tr>\n",
       "    <tr>\n",
       "      <th>2</th>\n",
       "      <td>6</td>\n",
       "      <td>60</td>\n",
       "    </tr>\n",
       "  </tbody>\n",
       "</table>\n",
       "</div>"
      ],
      "text/plain": [
       "   Column A  Column B\n",
       "0         2        20\n",
       "1         3        30\n",
       "2         6        60"
      ]
     },
     "metadata": {},
     "output_type": "display_data"
    },
    {
     "data": {
      "text/html": [
       "<div>\n",
       "<style scoped>\n",
       "    .dataframe tbody tr th:only-of-type {\n",
       "        vertical-align: middle;\n",
       "    }\n",
       "\n",
       "    .dataframe tbody tr th {\n",
       "        vertical-align: top;\n",
       "    }\n",
       "\n",
       "    .dataframe thead th {\n",
       "        text-align: right;\n",
       "    }\n",
       "</style>\n",
       "<table border=\"1\" class=\"dataframe\">\n",
       "  <thead>\n",
       "    <tr style=\"text-align: right;\">\n",
       "      <th></th>\n",
       "      <th>Column A</th>\n",
       "      <th>Column C</th>\n",
       "    </tr>\n",
       "  </thead>\n",
       "  <tbody>\n",
       "    <tr>\n",
       "      <th>0</th>\n",
       "      <td>1</td>\n",
       "      <td>2</td>\n",
       "    </tr>\n",
       "    <tr>\n",
       "      <th>1</th>\n",
       "      <td>2</td>\n",
       "      <td>4</td>\n",
       "    </tr>\n",
       "    <tr>\n",
       "      <th>2</th>\n",
       "      <td>3</td>\n",
       "      <td>6</td>\n",
       "    </tr>\n",
       "    <tr>\n",
       "      <th>3</th>\n",
       "      <td>4</td>\n",
       "      <td>8</td>\n",
       "    </tr>\n",
       "    <tr>\n",
       "      <th>4</th>\n",
       "      <td>5</td>\n",
       "      <td>10</td>\n",
       "    </tr>\n",
       "  </tbody>\n",
       "</table>\n",
       "</div>"
      ],
      "text/plain": [
       "   Column A  Column C\n",
       "0         1         2\n",
       "1         2         4\n",
       "2         3         6\n",
       "3         4         8\n",
       "4         5        10"
      ]
     },
     "metadata": {},
     "output_type": "display_data"
    }
   ],
   "source": [
    "display(df1,df2,df3,df4,df5,df6,df7)"
   ]
  },
  {
   "cell_type": "code",
   "execution_count": 36,
   "id": "276dd9ab-1937-4968-903c-ec96a59864ba",
   "metadata": {
    "execution": {
     "iopub.execute_input": "2023-11-17T00:00:15.078390Z",
     "iopub.status.busy": "2023-11-17T00:00:15.078020Z",
     "iopub.status.idle": "2023-11-17T00:00:15.090363Z",
     "shell.execute_reply": "2023-11-17T00:00:15.089496Z",
     "shell.execute_reply.started": "2023-11-17T00:00:15.078365Z"
    }
   },
   "outputs": [
    {
     "data": {
      "text/html": [
       "<div>\n",
       "<style scoped>\n",
       "    .dataframe tbody tr th:only-of-type {\n",
       "        vertical-align: middle;\n",
       "    }\n",
       "\n",
       "    .dataframe tbody tr th {\n",
       "        vertical-align: top;\n",
       "    }\n",
       "\n",
       "    .dataframe thead th {\n",
       "        text-align: right;\n",
       "    }\n",
       "</style>\n",
       "<table border=\"1\" class=\"dataframe\">\n",
       "  <thead>\n",
       "    <tr style=\"text-align: right;\">\n",
       "      <th></th>\n",
       "      <th>Column A</th>\n",
       "      <th>Column B</th>\n",
       "      <th>Column C</th>\n",
       "    </tr>\n",
       "  </thead>\n",
       "  <tbody>\n",
       "    <tr>\n",
       "      <th>0</th>\n",
       "      <td>3</td>\n",
       "      <td>30.0</td>\n",
       "      <td>6.0</td>\n",
       "    </tr>\n",
       "    <tr>\n",
       "      <th>1</th>\n",
       "      <td>6</td>\n",
       "      <td>60.0</td>\n",
       "      <td>NaN</td>\n",
       "    </tr>\n",
       "    <tr>\n",
       "      <th>2</th>\n",
       "      <td>1</td>\n",
       "      <td>NaN</td>\n",
       "      <td>2.0</td>\n",
       "    </tr>\n",
       "    <tr>\n",
       "      <th>3</th>\n",
       "      <td>2</td>\n",
       "      <td>NaN</td>\n",
       "      <td>4.0</td>\n",
       "    </tr>\n",
       "    <tr>\n",
       "      <th>4</th>\n",
       "      <td>4</td>\n",
       "      <td>NaN</td>\n",
       "      <td>8.0</td>\n",
       "    </tr>\n",
       "    <tr>\n",
       "      <th>5</th>\n",
       "      <td>5</td>\n",
       "      <td>NaN</td>\n",
       "      <td>10.0</td>\n",
       "    </tr>\n",
       "  </tbody>\n",
       "</table>\n",
       "</div>"
      ],
      "text/plain": [
       "   Column A  Column B  Column C\n",
       "0         3      30.0       6.0\n",
       "1         6      60.0       NaN\n",
       "2         1       NaN       2.0\n",
       "3         2       NaN       4.0\n",
       "4         4       NaN       8.0\n",
       "5         5       NaN      10.0"
      ]
     },
     "execution_count": 36,
     "metadata": {},
     "output_type": "execute_result"
    }
   ],
   "source": [
    "pd.merge(df5,df7, on=['Column A'], how='outer')"
   ]
  },
  {
   "cell_type": "code",
   "execution_count": 37,
   "id": "1fe906f8-a21a-4b56-85d5-e09fcec09906",
   "metadata": {
    "execution": {
     "iopub.execute_input": "2023-11-17T00:00:27.066573Z",
     "iopub.status.busy": "2023-11-17T00:00:27.066137Z",
     "iopub.status.idle": "2023-11-17T00:00:27.070803Z",
     "shell.execute_reply": "2023-11-17T00:00:27.069733Z",
     "shell.execute_reply.started": "2023-11-17T00:00:27.066541Z"
    }
   },
   "outputs": [],
   "source": [
    "# NaN means not a number"
   ]
  },
  {
   "cell_type": "markdown",
   "id": "f2d08e68-52ad-4395-bf14-1d1615fba48d",
   "metadata": {
    "tags": []
   },
   "source": [
    "## Task\n",
    "\n",
    "Counter the number of attendance points for this week.\n",
    "\n",
    "1. Read files\n",
    "> [ \"roster.csv\", \"11-13-2023.csv\", \"11-14-2023.csv\", \"11-15-2023.csv\", \"11-17-2023.csv\" ]\n",
    "2. Merge data one by one\n",
    "4. Replace NaN by 0\n",
    "3. Create a column with the sum"
   ]
  },
  {
   "cell_type": "code",
   "execution_count": 45,
   "id": "55e71857-b833-4e20-8a58-9e57acef4d63",
   "metadata": {
    "execution": {
     "iopub.execute_input": "2023-11-17T00:06:42.603370Z",
     "iopub.status.busy": "2023-11-17T00:06:42.602961Z",
     "iopub.status.idle": "2023-11-17T00:06:42.618853Z",
     "shell.execute_reply": "2023-11-17T00:06:42.618002Z",
     "shell.execute_reply.started": "2023-11-17T00:06:42.603339Z"
    }
   },
   "outputs": [],
   "source": [
    "# 1\n",
    "\n",
    "files = [ \"roster.csv\", \"11-13-2023.csv\", \"11-14-2023.csv\", \"11-15-2023.csv\", \"11-17-2023.csv\" ]\n",
    "\n",
    "roster = pd.read_csv(files[0])\n",
    "df13 = pd.read_csv(files[1])\n",
    "df14 = pd.read_csv(files[2])\n",
    "df15 = pd.read_csv(files[3])\n",
    "df17 = pd.read_csv(files[4])"
   ]
  },
  {
   "cell_type": "code",
   "execution_count": 46,
   "id": "47c82779-61a7-4a68-80f0-956ece768ae9",
   "metadata": {
    "execution": {
     "iopub.execute_input": "2023-11-17T00:06:42.976347Z",
     "iopub.status.busy": "2023-11-17T00:06:42.975942Z",
     "iopub.status.idle": "2023-11-17T00:06:42.984271Z",
     "shell.execute_reply": "2023-11-17T00:06:42.983378Z",
     "shell.execute_reply.started": "2023-11-17T00:06:42.976318Z"
    }
   },
   "outputs": [
    {
     "data": {
      "text/html": [
       "<div>\n",
       "<style scoped>\n",
       "    .dataframe tbody tr th:only-of-type {\n",
       "        vertical-align: middle;\n",
       "    }\n",
       "\n",
       "    .dataframe tbody tr th {\n",
       "        vertical-align: top;\n",
       "    }\n",
       "\n",
       "    .dataframe thead th {\n",
       "        text-align: right;\n",
       "    }\n",
       "</style>\n",
       "<table border=\"1\" class=\"dataframe\">\n",
       "  <thead>\n",
       "    <tr style=\"text-align: right;\">\n",
       "      <th></th>\n",
       "      <th>Name</th>\n",
       "    </tr>\n",
       "  </thead>\n",
       "  <tbody>\n",
       "    <tr>\n",
       "      <th>0</th>\n",
       "      <td>Student A</td>\n",
       "    </tr>\n",
       "    <tr>\n",
       "      <th>1</th>\n",
       "      <td>Student B</td>\n",
       "    </tr>\n",
       "    <tr>\n",
       "      <th>2</th>\n",
       "      <td>Student C</td>\n",
       "    </tr>\n",
       "    <tr>\n",
       "      <th>3</th>\n",
       "      <td>Student D</td>\n",
       "    </tr>\n",
       "    <tr>\n",
       "      <th>4</th>\n",
       "      <td>Student E</td>\n",
       "    </tr>\n",
       "    <tr>\n",
       "      <th>5</th>\n",
       "      <td>Student F</td>\n",
       "    </tr>\n",
       "    <tr>\n",
       "      <th>6</th>\n",
       "      <td>Student G</td>\n",
       "    </tr>\n",
       "    <tr>\n",
       "      <th>7</th>\n",
       "      <td>Student H</td>\n",
       "    </tr>\n",
       "  </tbody>\n",
       "</table>\n",
       "</div>"
      ],
      "text/plain": [
       "        Name\n",
       "0  Student A\n",
       "1  Student B\n",
       "2  Student C\n",
       "3  Student D\n",
       "4  Student E\n",
       "5  Student F\n",
       "6  Student G\n",
       "7  Student H"
      ]
     },
     "execution_count": 46,
     "metadata": {},
     "output_type": "execute_result"
    }
   ],
   "source": [
    "roster"
   ]
  },
  {
   "cell_type": "code",
   "execution_count": 47,
   "id": "7f1a3077-4b3a-4d96-8948-8d48d6329092",
   "metadata": {
    "execution": {
     "iopub.execute_input": "2023-11-17T00:06:45.564812Z",
     "iopub.status.busy": "2023-11-17T00:06:45.564419Z",
     "iopub.status.idle": "2023-11-17T00:06:45.572825Z",
     "shell.execute_reply": "2023-11-17T00:06:45.571721Z",
     "shell.execute_reply.started": "2023-11-17T00:06:45.564784Z"
    }
   },
   "outputs": [
    {
     "data": {
      "text/html": [
       "<div>\n",
       "<style scoped>\n",
       "    .dataframe tbody tr th:only-of-type {\n",
       "        vertical-align: middle;\n",
       "    }\n",
       "\n",
       "    .dataframe tbody tr th {\n",
       "        vertical-align: top;\n",
       "    }\n",
       "\n",
       "    .dataframe thead th {\n",
       "        text-align: right;\n",
       "    }\n",
       "</style>\n",
       "<table border=\"1\" class=\"dataframe\">\n",
       "  <thead>\n",
       "    <tr style=\"text-align: right;\">\n",
       "      <th></th>\n",
       "      <th>Name</th>\n",
       "      <th>11/13/23</th>\n",
       "    </tr>\n",
       "  </thead>\n",
       "  <tbody>\n",
       "    <tr>\n",
       "      <th>0</th>\n",
       "      <td>Student A</td>\n",
       "      <td>1</td>\n",
       "    </tr>\n",
       "    <tr>\n",
       "      <th>1</th>\n",
       "      <td>Student D</td>\n",
       "      <td>2</td>\n",
       "    </tr>\n",
       "    <tr>\n",
       "      <th>2</th>\n",
       "      <td>Student C</td>\n",
       "      <td>1</td>\n",
       "    </tr>\n",
       "    <tr>\n",
       "      <th>3</th>\n",
       "      <td>Student E</td>\n",
       "      <td>2</td>\n",
       "    </tr>\n",
       "    <tr>\n",
       "      <th>4</th>\n",
       "      <td>Student B</td>\n",
       "      <td>1</td>\n",
       "    </tr>\n",
       "  </tbody>\n",
       "</table>\n",
       "</div>"
      ],
      "text/plain": [
       "        Name  11/13/23\n",
       "0  Student A         1\n",
       "1  Student D         2\n",
       "2  Student C         1\n",
       "3  Student E         2\n",
       "4  Student B         1"
      ]
     },
     "execution_count": 47,
     "metadata": {},
     "output_type": "execute_result"
    }
   ],
   "source": [
    "df13"
   ]
  },
  {
   "cell_type": "code",
   "execution_count": 64,
   "id": "1fa83b2f-7ad2-4e13-94ce-b3ea6d293464",
   "metadata": {
    "execution": {
     "iopub.execute_input": "2023-11-17T00:09:50.817450Z",
     "iopub.status.busy": "2023-11-17T00:09:50.817085Z",
     "iopub.status.idle": "2023-11-17T00:09:50.846579Z",
     "shell.execute_reply": "2023-11-17T00:09:50.845374Z",
     "shell.execute_reply.started": "2023-11-17T00:09:50.817424Z"
    },
    "tags": []
   },
   "outputs": [
    {
     "data": {
      "text/html": [
       "<div>\n",
       "<style scoped>\n",
       "    .dataframe tbody tr th:only-of-type {\n",
       "        vertical-align: middle;\n",
       "    }\n",
       "\n",
       "    .dataframe tbody tr th {\n",
       "        vertical-align: top;\n",
       "    }\n",
       "\n",
       "    .dataframe thead th {\n",
       "        text-align: right;\n",
       "    }\n",
       "</style>\n",
       "<table border=\"1\" class=\"dataframe\">\n",
       "  <thead>\n",
       "    <tr style=\"text-align: right;\">\n",
       "      <th></th>\n",
       "      <th>Name</th>\n",
       "      <th>11/13/23</th>\n",
       "      <th>11/14/23</th>\n",
       "      <th>11/15/23</th>\n",
       "      <th>11/17/23</th>\n",
       "      <th>Total</th>\n",
       "    </tr>\n",
       "  </thead>\n",
       "  <tbody>\n",
       "    <tr>\n",
       "      <th>0</th>\n",
       "      <td>Student A</td>\n",
       "      <td>1.0</td>\n",
       "      <td>0.0</td>\n",
       "      <td>1.0</td>\n",
       "      <td>0.0</td>\n",
       "      <td>2.0</td>\n",
       "    </tr>\n",
       "    <tr>\n",
       "      <th>1</th>\n",
       "      <td>Student B</td>\n",
       "      <td>1.0</td>\n",
       "      <td>2.0</td>\n",
       "      <td>0.0</td>\n",
       "      <td>0.0</td>\n",
       "      <td>3.0</td>\n",
       "    </tr>\n",
       "    <tr>\n",
       "      <th>2</th>\n",
       "      <td>Student C</td>\n",
       "      <td>1.0</td>\n",
       "      <td>0.0</td>\n",
       "      <td>2.0</td>\n",
       "      <td>2.0</td>\n",
       "      <td>3.0</td>\n",
       "    </tr>\n",
       "    <tr>\n",
       "      <th>3</th>\n",
       "      <td>Student D</td>\n",
       "      <td>2.0</td>\n",
       "      <td>1.0</td>\n",
       "      <td>1.0</td>\n",
       "      <td>2.0</td>\n",
       "      <td>4.0</td>\n",
       "    </tr>\n",
       "    <tr>\n",
       "      <th>4</th>\n",
       "      <td>Student E</td>\n",
       "      <td>2.0</td>\n",
       "      <td>1.0</td>\n",
       "      <td>1.0</td>\n",
       "      <td>0.0</td>\n",
       "      <td>4.0</td>\n",
       "    </tr>\n",
       "    <tr>\n",
       "      <th>5</th>\n",
       "      <td>Student F</td>\n",
       "      <td>0.0</td>\n",
       "      <td>0.0</td>\n",
       "      <td>1.0</td>\n",
       "      <td>1.0</td>\n",
       "      <td>1.0</td>\n",
       "    </tr>\n",
       "    <tr>\n",
       "      <th>6</th>\n",
       "      <td>Student G</td>\n",
       "      <td>0.0</td>\n",
       "      <td>1.0</td>\n",
       "      <td>2.0</td>\n",
       "      <td>2.0</td>\n",
       "      <td>3.0</td>\n",
       "    </tr>\n",
       "    <tr>\n",
       "      <th>7</th>\n",
       "      <td>Student H</td>\n",
       "      <td>0.0</td>\n",
       "      <td>2.0</td>\n",
       "      <td>2.0</td>\n",
       "      <td>1.0</td>\n",
       "      <td>4.0</td>\n",
       "    </tr>\n",
       "  </tbody>\n",
       "</table>\n",
       "</div>"
      ],
      "text/plain": [
       "        Name  11/13/23  11/14/23  11/15/23  11/17/23  Total\n",
       "0  Student A       1.0       0.0       1.0       0.0    2.0\n",
       "1  Student B       1.0       2.0       0.0       0.0    3.0\n",
       "2  Student C       1.0       0.0       2.0       2.0    3.0\n",
       "3  Student D       2.0       1.0       1.0       2.0    4.0\n",
       "4  Student E       2.0       1.0       1.0       0.0    4.0\n",
       "5  Student F       0.0       0.0       1.0       1.0    1.0\n",
       "6  Student G       0.0       1.0       2.0       2.0    3.0\n",
       "7  Student H       0.0       2.0       2.0       1.0    4.0"
      ]
     },
     "execution_count": 64,
     "metadata": {},
     "output_type": "execute_result"
    }
   ],
   "source": [
    "df = pd.merge(roster, df13, on='Name', how='left')\n",
    "\n",
    "\n",
    "\n"
   ]
  },
  {
   "cell_type": "markdown",
   "id": "6ee4cfa5-eee1-45fd-8755-db09a94bc4dd",
   "metadata": {},
   "source": [
    "# Questions?\n",
    "\n",
    "## Thank you!"
   ]
  },
  {
   "cell_type": "code",
   "execution_count": null,
   "id": "0d6f8e7e-9498-48b0-8a1d-a5ea21fd2ea7",
   "metadata": {},
   "outputs": [],
   "source": []
  }
 ],
 "metadata": {
  "kernelspec": {
   "display_name": "dawg_f2023",
   "language": "python",
   "name": "dawg_f2023"
  },
  "language_info": {
   "codemirror_mode": {
    "name": "ipython",
    "version": 3
   },
   "file_extension": ".py",
   "mimetype": "text/x-python",
   "name": "python",
   "nbconvert_exporter": "python",
   "pygments_lexer": "ipython3",
   "version": "3.12.0"
  }
 },
 "nbformat": 4,
 "nbformat_minor": 5
}
