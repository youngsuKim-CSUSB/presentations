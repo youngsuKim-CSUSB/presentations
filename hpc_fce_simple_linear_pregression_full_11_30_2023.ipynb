{
  "nbformat": 4,
  "nbformat_minor": 0,
  "metadata": {
    "colab": {
      "provenance": []
    },
    "kernelspec": {
      "name": "python3",
      "display_name": "Python 3"
    },
    "language_info": {
      "name": "python"
    }
  },
  "cells": [
    {
      "cell_type": "code",
      "execution_count": null,
      "metadata": {
        "id": "yUCdl12QyWhx"
      },
      "outputs": [],
      "source": [
        "import tensorflow as tf\n",
        "import matplotlib.pyplot as plt\n",
        "import numpy as np"
      ]
    },
    {
      "cell_type": "code",
      "source": [
        "# practice . methods"
      ],
      "metadata": {
        "id": "T4COy1kQyvBW"
      },
      "execution_count": null,
      "outputs": []
    },
    {
      "cell_type": "code",
      "source": [
        "# Generate data xs\n",
        "xs = np.arange(0,21)\n",
        "xs"
      ],
      "metadata": {
        "id": "P2wOxny2yc92"
      },
      "execution_count": null,
      "outputs": []
    },
    {
      "cell_type": "code",
      "source": [
        "# Generate ys = 2*xs-1\n",
        "ys = 2*xs-1\n",
        "ys"
      ],
      "metadata": {
        "id": "q-BcoMMoy2KW"
      },
      "execution_count": null,
      "outputs": []
    },
    {
      "cell_type": "code",
      "source": [
        "# Define a model\n",
        "model = tf.keras.Sequential([\n",
        "    tf.keras.layers.Dense(units=1, input_shape=[1])\n",
        "])\n",
        "\n",
        "# Set the initial weights of the model\n",
        "# initial_weights = [np.array([[0],], dtype=float), np.array([0], dtype=float)]\n",
        "# model.set_weights(initial_weights)"
      ],
      "metadata": {
        "id": "Gf1c1wiczHEe"
      },
      "execution_count": null,
      "outputs": []
    },
    {
      "cell_type": "code",
      "source": [
        "# Summary of a model\n",
        "model.summary()"
      ],
      "metadata": {
        "id": "grKYMl_yziny"
      },
      "execution_count": null,
      "outputs": []
    },
    {
      "cell_type": "code",
      "source": [
        "# Check out the layer; you may skip this\n",
        "model.layers[0].get_weights()"
      ],
      "metadata": {
        "id": "E-NXwTERz52E"
      },
      "execution_count": null,
      "outputs": []
    },
    {
      "cell_type": "code",
      "source": [
        "# Let's see them in a graph\n",
        "def show_my_lr(model=model, xs=xs, ys=ys):\n",
        "  # Get w & b\n",
        "  w = model.layers[0].get_weights()[0].squeeze()\n",
        "  b = model.layers[0].get_weights()[1]\n",
        "  # print(f\"The line is y={w:.2f}x+{b:.2f}\")\n",
        "\n",
        "  # Plot y = w*x + b\n",
        "  lr_line_x = np.array([-2, len(xs)+1])\n",
        "  lr_line_y = w*lr_line_x+b\n",
        "  plt.plot(lr_line_x, lr_line_y, 'y', label='Linear Regression')\n",
        "\n",
        "  # Plot xs, ys\n",
        "  plt.plot(xs,ys, 'bo', label='data')\n",
        "\n",
        "  plt.legend()\n",
        "\n",
        "  plt.show()\n",
        "\n",
        "  print(f\"The line is y = {float(w):.2f}x + {float(b):.2f}\")\n",
        "\n",
        "show_my_lr(model)"
      ],
      "metadata": {
        "id": "KlpVU8Of0K-y"
      },
      "execution_count": null,
      "outputs": []
    },
    {
      "cell_type": "code",
      "source": [
        "# Set the loss and optimizer for the model;\n",
        "model.compile(\n",
        "    loss='mae',       #mse = mean absolute error\n",
        "    optimizer='sgd',  #sgd = stochastic gradient descent\n",
        ")"
      ],
      "metadata": {
        "id": "MVyj4vb90j04"
      },
      "execution_count": null,
      "outputs": []
    },
    {
      "cell_type": "code",
      "source": [
        "# Train/Fit the model\n",
        "model.fit(\n",
        "    xs,\n",
        "    ys,\n",
        "    epochs=1000   #Epochs how many time to run the data set; Chance this to 50 and rerun the cell\n",
        ")\n",
        "\n",
        "show_my_lr(model)"
      ],
      "metadata": {
        "id": "Ea9SAb0p2zu6"
      },
      "execution_count": null,
      "outputs": []
    },
    {
      "cell_type": "code",
      "source": [
        "# More challenging example but the same model\n",
        "\n",
        "xs_noise = np.array([ 0.61328084,  0.92254896,  0.42753223,  0.65241344,  5.25513013,\n",
        "         6.71533968,  2.42820731,  6.38956389,  7.58819192, 13.17503175,\n",
        "        11.94040142,  6.74727577,  9.21180621, 13.01074129, 13.94001763,\n",
        "        11.45529976, 12.00283773, 21.85593064, 22.90858068, 17.03514122,\n",
        "        17.85306704])\n",
        "ys_noise = np.array([ 1.22656168,  0.04509793, -2.74493555, -4.09517312,  3.31026025,\n",
        "         4.43067935, -5.94358537,  0.17912777,  0.77638385, 10.15006349,\n",
        "         5.88080285, -6.30544846, -3.17638758,  2.62148258,  2.68003527,\n",
        "        -4.08940048, -4.79432455, 13.11186128, 13.41716136, -0.12971755,\n",
        "        -0.29386593])\n",
        "\n",
        "plt.plot(xs_noise, ys_noise, 'bo', label='data with noise')\n",
        "plt.legend()\n",
        "plt.show()"
      ],
      "metadata": {
        "id": "A9ZNHQc53NLR"
      },
      "execution_count": null,
      "outputs": []
    },
    {
      "cell_type": "code",
      "source": [
        "# The formula; https://www.geeksforgeeks.org/solving-linear-regression-in-python/\n",
        "x = xs_noise\n",
        "y = ys_noise\n",
        "n = np.size(x)\n",
        "\n",
        "x_mean = np.mean(x)\n",
        "y_mean = np.mean(y)\n",
        "\n",
        "Sxy = np.sum(x*y)- n*x_mean*y_mean\n",
        "Sxx = np.sum(x*x)-n*x_mean*x_mean\n",
        "\n",
        "w = Sxy/Sxx\n",
        "b = y_mean-b1*x_mean\n",
        "\n",
        "print('slope w is', w)\n",
        "print('intercept b is', b)"
      ],
      "metadata": {
        "id": "5sRYxeZtFk71"
      },
      "execution_count": null,
      "outputs": []
    },
    {
      "cell_type": "code",
      "source": [
        "# Define model and its loss\n",
        "\n",
        "# Define a model\n",
        "model2 = tf.keras.Sequential([\n",
        "    tf.keras.layers.Dense(units=1, input_shape=[1])\n",
        "])\n",
        "\n",
        "# optimizer=tf.keras.optimizers.Adam(learning_rate=1e-4)\n",
        "\n",
        "# Set the loss and optimizer for the model;\n",
        "model2.compile(\n",
        "    loss='mse',       #mse = mean square error\n",
        "    optimizer='adam', #adam = popular optimizer\n",
        "    # optimizer=optimizer\n",
        ")\n",
        "\n",
        "# Set the initial weights of the model\n",
        "initial_weights = [np.array([[0],], dtype=float), np.array([0], dtype=float)]\n",
        "model2.set_weights(initial_weights)\n",
        "\n",
        "model2.summary()"
      ],
      "metadata": {
        "id": "rnq6zNJM6R2C"
      },
      "execution_count": null,
      "outputs": []
    },
    {
      "cell_type": "code",
      "source": [
        "# Train/Fit the model with some animation\n",
        "show_my_lr(model2, xs_noise, ys_noise)\n",
        "\n",
        "for _ in range(15):\n",
        "  model2.fit(\n",
        "      xs_noise,\n",
        "      ys_noise,\n",
        "      epochs=500,   #Epochs how many time to run the data set\n",
        "      verbose=0\n",
        "  )\n",
        "\n",
        "  show_my_lr(model2, xs_noise, ys_noise)"
      ],
      "metadata": {
        "collapsed": true,
        "id": "iCG_Llsx6iE8"
      },
      "execution_count": null,
      "outputs": []
    },
    {
      "cell_type": "code",
      "source": [
        "# Using the sk-learn pacakge\n",
        "from sklearn.linear_model import LinearRegression\n",
        "\n",
        "model = LinearRegression()\n",
        "model.fit(xs_noise.reshape(-1,1), ys_noise)\n",
        "model.coef_, model.intercept_"
      ],
      "metadata": {
        "id": "Er0DH16-6sD6"
      },
      "execution_count": null,
      "outputs": []
    },
    {
      "cell_type": "code",
      "source": [],
      "metadata": {
        "id": "dsXc_q88GF50"
      },
      "execution_count": null,
      "outputs": []
    }
  ]
}